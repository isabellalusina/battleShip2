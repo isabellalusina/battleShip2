{
  "nbformat": 4,
  "nbformat_minor": 0,
  "metadata": {
    "colab": {
      "name": "Izabella Lusina.ipynb",
      "provenance": [],
      "collapsed_sections": [],
      "toc_visible": true,
      "include_colab_link": true
    },
    "kernelspec": {
      "name": "python3",
      "display_name": "Python 3"
    },
    "language_info": {
      "name": "python"
    }
  },
  "cells": [
    {
      "cell_type": "markdown",
      "metadata": {
        "id": "view-in-github",
        "colab_type": "text"
      },
      "source": [
        "<a href=\"https://colab.research.google.com/github/isabellalusina/battleShipExtension/blob/master/Izabella_Lusina.ipynb\" target=\"_parent\"><img src=\"https://colab.research.google.com/assets/colab-badge.svg\" alt=\"Open In Colab\"/></a>"
      ]
    },
    {
      "cell_type": "markdown",
      "metadata": {
        "id": "5L8R4suGsnGV"
      },
      "source": [
        "# **[1) Kurs LearnPython.org ](https://learnpython.org/)**"
      ]
    },
    {
      "cell_type": "markdown",
      "metadata": {
        "id": "m6SKR86ftj0W"
      },
      "source": [
        "## [Hello, world!](https://learnpython.org/en/Hello%2C_World%21)"
      ]
    },
    {
      "cell_type": "markdown",
      "metadata": {
        "id": "tgcdqhj2CwUa"
      },
      "source": [
        "Python is a very simple language, and has a very straightforward syntax. It encourages programmers to program without boilerplate (prepared) code. The simplest directive in Python is the \"print\" directive - it simply prints out a line (and also includes a newline, unlike in C).\n",
        "\n",
        "There are two major Python versions, Python 2 and Python 3. Python 2 and 3 are quite different. This tutorial uses Python 3, because it more semantically correct and supports newer features.\n",
        "\n",
        "For example, one difference between Python 2 and 3 is the print statement. In Python 2, the \"print\" statement is not a function, and therefore it is invoked without parentheses. However, in Python 3, it is a function, and must be invoked with parentheses.\n",
        "\n",
        "To print a string in Python 3, just write:"
      ]
    },
    {
      "cell_type": "code",
      "metadata": {
        "id": "cpj0pBq9C8W5",
        "colab": {
          "base_uri": "https://localhost:8080/"
        },
        "outputId": "7464ad59-fd30-422d-8e6e-a014c03e16c8"
      },
      "source": [
        "print(\"This line will be printed.\")"
      ],
      "execution_count": null,
      "outputs": [
        {
          "output_type": "stream",
          "name": "stdout",
          "text": [
            "This line will be printed.\n"
          ]
        }
      ]
    },
    {
      "cell_type": "markdown",
      "metadata": {
        "id": "DoKI-kNIDAOL"
      },
      "source": [
        "**Indentation**\n",
        "\n",
        "Python uses indentation for blocks, instead of curly braces. Both tabs and spaces are supported, but the standard indentation requires standard Python code to use four spaces. For example:"
      ]
    },
    {
      "cell_type": "code",
      "metadata": {
        "colab": {
          "base_uri": "https://localhost:8080/"
        },
        "id": "p-aJbEcQ9S_Q",
        "outputId": "4b395a91-ad41-4bd9-a76d-8ff8a1a1191a"
      },
      "source": [
        "x = 1\n",
        "if x == 1:\n",
        "    # indented four spaces\n",
        "    print(\"x is 1.\")"
      ],
      "execution_count": null,
      "outputs": [
        {
          "output_type": "stream",
          "name": "stdout",
          "text": [
            "x is 1.\n"
          ]
        }
      ]
    },
    {
      "cell_type": "markdown",
      "metadata": {
        "id": "-Kad-8y_9bl8"
      },
      "source": [
        "**Exercise**\n",
        "\n",
        "Use the \"print\" function to print the line \"Hello, World!\"."
      ]
    },
    {
      "cell_type": "code",
      "metadata": {
        "colab": {
          "base_uri": "https://localhost:8080/"
        },
        "id": "iC61YTj_9tKd",
        "outputId": "7b585aa8-7bdd-4e33-e4ab-728c937f21c6"
      },
      "source": [
        "print(\"Hello, World!\")"
      ],
      "execution_count": null,
      "outputs": [
        {
          "output_type": "stream",
          "name": "stdout",
          "text": [
            "Hello, World!\n"
          ]
        }
      ]
    },
    {
      "cell_type": "markdown",
      "metadata": {
        "id": "TfqoSfOD9yjA"
      },
      "source": [
        "## [Variables and Types](https://learnpython.org/en/Variables_and_Types)"
      ]
    },
    {
      "cell_type": "markdown",
      "metadata": {
        "id": "1F2K5gHN-bWb"
      },
      "source": [
        "Python is completely object oriented, and not \"statically typed\". You do not need to declare variables before using them, or declare their type. Every variable in Python is an object.\n",
        "\n",
        "This tutorial will go over a few basic types of variables."
      ]
    },
    {
      "cell_type": "markdown",
      "metadata": {
        "id": "1yVs0svU-yOe"
      },
      "source": [
        "**Numbers**\n",
        "\n",
        "Python supports two types of numbers - integers(whole numbers) and floating point numbers(decimals). (It also supports complex numbers, which will not be explained in this tutorial).\n",
        "\n",
        "To define an integer, use the following syntax:"
      ]
    },
    {
      "cell_type": "code",
      "metadata": {
        "colab": {
          "base_uri": "https://localhost:8080/"
        },
        "id": "rsht1h_Y-_-m",
        "outputId": "7db7766e-4e96-4603-98c4-9f9dcf5c6bab"
      },
      "source": [
        "myint = 7\n",
        "print(myint)"
      ],
      "execution_count": null,
      "outputs": [
        {
          "output_type": "stream",
          "name": "stdout",
          "text": [
            "7\n"
          ]
        }
      ]
    },
    {
      "cell_type": "markdown",
      "metadata": {
        "id": "yujf4XXG_CGl"
      },
      "source": [
        "To define a floating point number, you may use one of the following notations:"
      ]
    },
    {
      "cell_type": "code",
      "metadata": {
        "colab": {
          "base_uri": "https://localhost:8080/"
        },
        "id": "k57bKc0uCPqI",
        "outputId": "99c3662c-c833-41af-8487-218becc7966c"
      },
      "source": [
        "myfloat = 7.0\n",
        "print(myfloat)\n",
        "myfloat = float(7)\n",
        "print(myfloat)"
      ],
      "execution_count": null,
      "outputs": [
        {
          "output_type": "stream",
          "name": "stdout",
          "text": [
            "7.0\n",
            "7.0\n"
          ]
        }
      ]
    },
    {
      "cell_type": "markdown",
      "metadata": {
        "id": "JL-_d12wCVRF"
      },
      "source": [
        "**Strings**\n",
        "\n",
        "Strings are defined either with a single quote or a double quotes.\n"
      ]
    },
    {
      "cell_type": "code",
      "metadata": {
        "colab": {
          "base_uri": "https://localhost:8080/"
        },
        "id": "CQYna7ziD8kd",
        "outputId": "8b00236a-b2cb-4b5d-f021-d9b32a8ea2f5"
      },
      "source": [
        "mystring = 'hello'\n",
        "print(mystring)\n",
        "mystring = \"hello\"\n",
        "print(mystring)"
      ],
      "execution_count": null,
      "outputs": [
        {
          "output_type": "stream",
          "name": "stdout",
          "text": [
            "hello\n",
            "hello\n"
          ]
        }
      ]
    },
    {
      "cell_type": "markdown",
      "metadata": {
        "id": "8dQmzz4-EEC3"
      },
      "source": [
        "The difference between the two is that using double quotes makes it easy to include apostrophes (whereas these would terminate the string if using single quotes)"
      ]
    },
    {
      "cell_type": "code",
      "metadata": {
        "colab": {
          "base_uri": "https://localhost:8080/"
        },
        "id": "5JUPQ0IREHbg",
        "outputId": "7d484170-a682-462c-984a-3f6411c98838"
      },
      "source": [
        "mystring = \"Don't worry about apostrophes\"\n",
        "print(mystring)"
      ],
      "execution_count": null,
      "outputs": [
        {
          "output_type": "stream",
          "name": "stdout",
          "text": [
            "Don't worry about apostrophes\n"
          ]
        }
      ]
    },
    {
      "cell_type": "markdown",
      "metadata": {
        "id": "CZi-u7qVEN3R"
      },
      "source": [
        "There are additional variations on defining strings that make it easier to include things such as carriage returns, backslashes and Unicode characters. These are beyond the scope of this tutorial, but are covered in the Python documentation.\n",
        "\n",
        "Simple operators can be executed on numbers and strings:"
      ]
    },
    {
      "cell_type": "code",
      "metadata": {
        "colab": {
          "base_uri": "https://localhost:8080/"
        },
        "id": "XxjdjpREEUeJ",
        "outputId": "01e5bb8f-02fb-4fe5-e277-3830e7d41a4d"
      },
      "source": [
        "one = 1\n",
        "two = 2\n",
        "three = one + two\n",
        "print(three)\n",
        "\n",
        "hello = \"hello\"\n",
        "world = \"world\"\n",
        "helloworld = hello + \" \" + world\n",
        "print(helloworld)"
      ],
      "execution_count": null,
      "outputs": [
        {
          "output_type": "stream",
          "name": "stdout",
          "text": [
            "3\n",
            "hello world\n"
          ]
        }
      ]
    },
    {
      "cell_type": "markdown",
      "metadata": {
        "id": "Tw5BY79iEasM"
      },
      "source": [
        "Assignments can be done on more than one variable \"simultaneously\" on the same line like this"
      ]
    },
    {
      "cell_type": "code",
      "metadata": {
        "colab": {
          "base_uri": "https://localhost:8080/"
        },
        "id": "1SgOcdbeElZl",
        "outputId": "ce77d677-9255-41e6-a8e8-20343d26366c"
      },
      "source": [
        "a, b = 3, 4\n",
        "print(a, b)"
      ],
      "execution_count": null,
      "outputs": [
        {
          "output_type": "stream",
          "name": "stdout",
          "text": [
            "3 4\n"
          ]
        }
      ]
    },
    {
      "cell_type": "markdown",
      "metadata": {
        "id": "PIpMbc2PEg2O"
      },
      "source": [
        "Mixing operators between numbers and strings is not supported:"
      ]
    },
    {
      "cell_type": "code",
      "metadata": {
        "colab": {
          "base_uri": "https://localhost:8080/",
          "height": 209
        },
        "id": "saM-ZmIcFB37",
        "outputId": "65df1fac-1cee-41d5-c6df-139efac605df"
      },
      "source": [
        "# This will not work!\n",
        "one = 1\n",
        "two = 2\n",
        "hello = \"hello\"\n",
        "\n",
        "print(one + two + hello)"
      ],
      "execution_count": null,
      "outputs": [
        {
          "output_type": "error",
          "ename": "TypeError",
          "evalue": "ignored",
          "traceback": [
            "\u001b[0;31m---------------------------------------------------------------------------\u001b[0m",
            "\u001b[0;31mTypeError\u001b[0m                                 Traceback (most recent call last)",
            "\u001b[0;32m<ipython-input-14-fa035bb013ee>\u001b[0m in \u001b[0;36m<module>\u001b[0;34m()\u001b[0m\n\u001b[1;32m      4\u001b[0m \u001b[0mhello\u001b[0m \u001b[0;34m=\u001b[0m \u001b[0;34m\"hello\"\u001b[0m\u001b[0;34m\u001b[0m\u001b[0;34m\u001b[0m\u001b[0m\n\u001b[1;32m      5\u001b[0m \u001b[0;34m\u001b[0m\u001b[0m\n\u001b[0;32m----> 6\u001b[0;31m \u001b[0mprint\u001b[0m\u001b[0;34m(\u001b[0m\u001b[0mone\u001b[0m \u001b[0;34m+\u001b[0m \u001b[0mtwo\u001b[0m \u001b[0;34m+\u001b[0m \u001b[0mhello\u001b[0m\u001b[0;34m)\u001b[0m\u001b[0;34m\u001b[0m\u001b[0;34m\u001b[0m\u001b[0m\n\u001b[0m",
            "\u001b[0;31mTypeError\u001b[0m: unsupported operand type(s) for +: 'int' and 'str'"
          ]
        }
      ]
    },
    {
      "cell_type": "markdown",
      "metadata": {
        "id": "Zqaezr1mJ3nx"
      },
      "source": [
        "**Exercise**\n",
        "\n",
        "The target of this exercise is to create a string, an integer, and a floating point number. The string should be named mystring and should contain the word \"hello\". The floating point number should be named myfloat and should contain the number 10.0, and the integer should be named myint and should contain the number 20."
      ]
    },
    {
      "cell_type": "code",
      "metadata": {
        "colab": {
          "base_uri": "https://localhost:8080/"
        },
        "id": "ESlYRUlSKK5g",
        "outputId": "77cf69ef-2218-4b52-ddcd-d4751d1cb993"
      },
      "source": [
        "# change this code\n",
        "mystring = \"hello\"\n",
        "myfloat = 10.0\n",
        "myint = 20\n",
        "\n",
        "# testing code\n",
        "if mystring == \"hello\":\n",
        "    print(\"String: %s\" % mystring)\n",
        "if isinstance(myfloat, float) and myfloat == 10.0:\n",
        "    print(\"Float: %f\" % myfloat)\n",
        "if isinstance(myint, int) and myint == 20:\n",
        "    print(\"Integer: %d\" % myint)"
      ],
      "execution_count": null,
      "outputs": [
        {
          "output_type": "stream",
          "name": "stdout",
          "text": [
            "String: hello\n",
            "Float: 10.000000\n",
            "Integer: 20\n"
          ]
        }
      ]
    },
    {
      "cell_type": "markdown",
      "metadata": {
        "id": "XvXR700dMIhF"
      },
      "source": [
        "## [Lists](https://learnpython.org/en/Lists)"
      ]
    },
    {
      "cell_type": "markdown",
      "metadata": {
        "id": "4Y7Urs6YMWfU"
      },
      "source": [
        "Lists are very similar to arrays. They can contain any type of variable, and they can contain as many variables as you wish. Lists can also be iterated over in a very simple manner. Here is an example of how to build a list."
      ]
    },
    {
      "cell_type": "code",
      "metadata": {
        "colab": {
          "base_uri": "https://localhost:8080/"
        },
        "id": "MfLoc-E7UyIi",
        "outputId": "4b5ebbfb-9566-465c-f16d-1811573a63ee"
      },
      "source": [
        "mylist = []\n",
        "mylist.append(1)\n",
        "mylist.append(2)\n",
        "mylist.append(3)\n",
        "print(mylist[0]) # prints 1\n",
        "print(mylist[1]) # prints 2\n",
        "print(mylist[2]) # prints 3\n",
        "\n",
        "# prints out 1,2,3\n",
        "for x in mylist:\n",
        "    print(x)"
      ],
      "execution_count": null,
      "outputs": [
        {
          "output_type": "stream",
          "name": "stdout",
          "text": [
            "1\n",
            "2\n",
            "3\n",
            "1\n",
            "2\n",
            "3\n"
          ]
        }
      ]
    },
    {
      "cell_type": "markdown",
      "metadata": {
        "id": "KHqkD9y8VBud"
      },
      "source": [
        "Accessing an index which does not exist generates an exception (an error)."
      ]
    },
    {
      "cell_type": "code",
      "metadata": {
        "id": "ytlDEdIDVPKF"
      },
      "source": [
        "mylist = [1,2,3]\n",
        "print(mylist[10])"
      ],
      "execution_count": null,
      "outputs": []
    },
    {
      "cell_type": "markdown",
      "metadata": {
        "id": "RyjM8T3QVccQ"
      },
      "source": [
        "**Exercise**\n",
        "\n",
        "In this exercise, you will need to add numbers and strings to the correct lists using the \"append\" list method. You must add the numbers 1,2, and 3 to the \"numbers\" list, and the words 'hello' and 'world' to the strings variable.\n",
        "\n",
        "You will also have to fill in the variable second_name with the second name in the names list, using the brackets operator []. Note that the index is zero-based, so if you want to access the second item in the list, its index will be 1."
      ]
    },
    {
      "cell_type": "code",
      "metadata": {
        "colab": {
          "base_uri": "https://localhost:8080/"
        },
        "id": "Oq59c-cuWp4g",
        "outputId": "e7e5fe50-6861-4d6f-85d7-bb6860a4574e"
      },
      "source": [
        "numbers = []\n",
        "strings = []\n",
        "names = [\"John\", \"Eric\", \"Jessica\"]\n",
        "\n",
        "# write your code here\n",
        "numbers.append(1)\n",
        "numbers.append(2)\n",
        "numbers.append(3)\n",
        "\n",
        "strings.append(\"hello\")\n",
        "strings.append(\"world\")\n",
        "\n",
        "second_name = names[1]\n",
        "\n",
        "# this code should write out the filled arrays and the second name in the names list (Eric).\n",
        "print(numbers)\n",
        "print(strings)\n",
        "print(\"The second name on the names list is %s\" % second_name)"
      ],
      "execution_count": null,
      "outputs": [
        {
          "output_type": "stream",
          "name": "stdout",
          "text": [
            "[1, 2, 3]\n",
            "['hello', 'world']\n",
            "The second name on the names list is Eric\n"
          ]
        }
      ]
    },
    {
      "cell_type": "markdown",
      "metadata": {
        "id": "ijdwbJcjXBNm"
      },
      "source": [
        "## [Basic Operators](https://learnpython.org/en/Basic_Operators)"
      ]
    },
    {
      "cell_type": "markdown",
      "metadata": {
        "id": "4y2EyilpXdo_"
      },
      "source": [
        "This section explains how to use basic operators in Python."
      ]
    },
    {
      "cell_type": "markdown",
      "metadata": {
        "id": "eShwY9TiXjvB"
      },
      "source": [
        "**Arithmetic Operators**\n",
        "\n",
        "Just as any other programming languages, the addition, subtraction, multiplication, and division operators can be used with numbers."
      ]
    },
    {
      "cell_type": "code",
      "metadata": {
        "colab": {
          "base_uri": "https://localhost:8080/"
        },
        "id": "AM8stHLrYHsK",
        "outputId": "e3ddfbfe-ae11-4eec-81a9-c442be1dd53f"
      },
      "source": [
        "number = 1 + 2 * 3 / 4.0\n",
        "print(number)"
      ],
      "execution_count": null,
      "outputs": [
        {
          "output_type": "stream",
          "name": "stdout",
          "text": [
            "2.5\n"
          ]
        }
      ]
    },
    {
      "cell_type": "markdown",
      "metadata": {
        "id": "RJ0CSt9cYiSB"
      },
      "source": [
        "Try to predict what the answer will be. Does python follow order of operations?\n",
        "\n",
        "\n",
        "Another operator available is the modulo (%) operator, which returns the integer remainder of the division. dividend % divisor = remainder.\n"
      ]
    },
    {
      "cell_type": "code",
      "metadata": {
        "colab": {
          "base_uri": "https://localhost:8080/"
        },
        "id": "8oFud4B0YoVA",
        "outputId": "af20c88a-4b87-492b-ed63-5e0169099454"
      },
      "source": [
        "remainder = 11 % 3\n",
        "print(remainder)"
      ],
      "execution_count": null,
      "outputs": [
        {
          "output_type": "stream",
          "name": "stdout",
          "text": [
            "2\n"
          ]
        }
      ]
    },
    {
      "cell_type": "markdown",
      "metadata": {
        "id": "4VSOnUVYZa55"
      },
      "source": [
        "Using two multiplication symbols makes a power relationship."
      ]
    },
    {
      "cell_type": "code",
      "metadata": {
        "colab": {
          "base_uri": "https://localhost:8080/"
        },
        "id": "qY1l_CxSZoGw",
        "outputId": "8e5f5c8a-bb15-4a4f-9a47-fb7330fbc1a8"
      },
      "source": [
        "squared = 7 ** 2\n",
        "cubed = 2 ** 3\n",
        "print(squared)\n",
        "print(cubed)"
      ],
      "execution_count": null,
      "outputs": [
        {
          "output_type": "stream",
          "name": "stdout",
          "text": [
            "49\n",
            "8\n"
          ]
        }
      ]
    },
    {
      "cell_type": "markdown",
      "metadata": {
        "id": "g-VPCvB5aG2g"
      },
      "source": [
        "**Using Operators with Strings**\n",
        "\n",
        "Python supports concatenating strings using the addition operator:"
      ]
    },
    {
      "cell_type": "code",
      "metadata": {
        "colab": {
          "base_uri": "https://localhost:8080/"
        },
        "id": "iRmNPIKiaUnO",
        "outputId": "f009de8c-1da8-4d43-ab72-7ae31f831c05"
      },
      "source": [
        "helloworld = \"hello\" + \" \" + \"world\"\n",
        "print(helloworld)"
      ],
      "execution_count": null,
      "outputs": [
        {
          "output_type": "stream",
          "name": "stdout",
          "text": [
            "hello world\n"
          ]
        }
      ]
    },
    {
      "cell_type": "markdown",
      "metadata": {
        "id": "FVk50r-yadQU"
      },
      "source": [
        "Python also supports multiplying strings to form a string with a repeating sequence:"
      ]
    },
    {
      "cell_type": "code",
      "metadata": {
        "colab": {
          "base_uri": "https://localhost:8080/"
        },
        "id": "F88jVe2BauGx",
        "outputId": "6b021bb4-8ec7-4b54-d251-db3785678dba"
      },
      "source": [
        "lotsofhellos = \"hello\" * 10\n",
        "print(lotsofhellos)"
      ],
      "execution_count": null,
      "outputs": [
        {
          "output_type": "stream",
          "name": "stdout",
          "text": [
            "hellohellohellohellohellohellohellohellohellohello\n"
          ]
        }
      ]
    },
    {
      "cell_type": "markdown",
      "metadata": {
        "id": "MA9uBmPQaziK"
      },
      "source": [
        "**Using Operators with Lists**\n",
        "\n",
        "Lists can be joined with the addition operators:"
      ]
    },
    {
      "cell_type": "code",
      "metadata": {
        "colab": {
          "base_uri": "https://localhost:8080/"
        },
        "id": "0ctrI1__a9ei",
        "outputId": "9db802f7-2539-4a31-8036-d62cc112a7e1"
      },
      "source": [
        "even_numbers = [2,4,6,8]\n",
        "odd_numbers = [1,3,5,7]\n",
        "all_numbers = odd_numbers + even_numbers\n",
        "print(all_numbers)"
      ],
      "execution_count": null,
      "outputs": [
        {
          "output_type": "stream",
          "name": "stdout",
          "text": [
            "[1, 3, 5, 7, 2, 4, 6, 8]\n"
          ]
        }
      ]
    },
    {
      "cell_type": "markdown",
      "metadata": {
        "id": "fgJc57bbbMuj"
      },
      "source": [
        "Just as in strings, Python supports forming new lists with a repeating sequence using the multiplication operator:"
      ]
    },
    {
      "cell_type": "code",
      "metadata": {
        "colab": {
          "base_uri": "https://localhost:8080/"
        },
        "id": "wW4mRg4Zbbl1",
        "outputId": "ce42e23c-425a-4078-efa7-43edc437efad"
      },
      "source": [
        "print([1,2,3] * 3)"
      ],
      "execution_count": null,
      "outputs": [
        {
          "output_type": "stream",
          "name": "stdout",
          "text": [
            "[1, 2, 3, 1, 2, 3, 1, 2, 3]\n"
          ]
        }
      ]
    },
    {
      "cell_type": "markdown",
      "metadata": {
        "id": "oFadB6tNbeIf"
      },
      "source": [
        "**Exercise**\n",
        "\n",
        "The target of this exercise is to create two lists called x_list and y_list, which contain 10 instances of the variables x and y, respectively. You are also required to create a list called big_list, which contains the variables x and y, 10 times each, by concatenating the two lists you have created."
      ]
    },
    {
      "cell_type": "code",
      "metadata": {
        "colab": {
          "base_uri": "https://localhost:8080/"
        },
        "id": "pJjbl56Ab0U7",
        "outputId": "bf757e00-c697-4118-ffbd-951de21bd5e0"
      },
      "source": [
        "x = object()\n",
        "y = object()\n",
        "\n",
        "# TODO: change this code\n",
        "x_list = [x] * 10\n",
        "y_list = [y] * 10\n",
        "big_list = x_list + y_list\n",
        "\n",
        "print(\"x_list contains %d objects\" % len(x_list))\n",
        "print(\"y_list contains %d objects\" % len(y_list))\n",
        "print(\"big_list contains %d objects\" % len(big_list))\n",
        "\n",
        "# testing code\n",
        "if x_list.count(x) == 10 and y_list.count(y) == 10:\n",
        "    print(\"Almost there...\")\n",
        "if big_list.count(x) == 10 and big_list.count(y) == 10:\n",
        "    print(\"Great!\")"
      ],
      "execution_count": null,
      "outputs": [
        {
          "output_type": "stream",
          "name": "stdout",
          "text": [
            "x_list contains 10 objects\n",
            "y_list contains 10 objects\n",
            "big_list contains 20 objects\n",
            "Almost there...\n",
            "Great!\n"
          ]
        }
      ]
    },
    {
      "cell_type": "markdown",
      "metadata": {
        "id": "ldCnSWgJcgVp"
      },
      "source": [
        "## [String Formatting](https://learnpython.org/en/String_Formatting)"
      ]
    },
    {
      "cell_type": "markdown",
      "metadata": {
        "id": "6Ay8vWtVc0hg"
      },
      "source": [
        "Python uses C-style string formatting to create new, formatted strings. The \"%\" operator is used to format a set of variables enclosed in a \"tuple\" (a fixed size list), together with a format string, which contains normal text together with \"argument specifiers\", special symbols like \"%s\" and \"%d\".\n",
        "\n",
        "Let's say you have a variable called \"name\" with your user name in it, and you would then like to print(out a greeting to that user.)"
      ]
    },
    {
      "cell_type": "code",
      "metadata": {
        "colab": {
          "base_uri": "https://localhost:8080/"
        },
        "id": "kwNKbdBNdRZs",
        "outputId": "13a054a2-c593-49d0-e379-f020207f6e4c"
      },
      "source": [
        "# This prints out \"Hello, John!\"\n",
        "name = \"John\"\n",
        "print(\"Hello, %s!\" % name)"
      ],
      "execution_count": null,
      "outputs": [
        {
          "output_type": "stream",
          "name": "stdout",
          "text": [
            "Hello, John!\n"
          ]
        }
      ]
    },
    {
      "cell_type": "markdown",
      "metadata": {
        "id": "w3_QRYxVdXFB"
      },
      "source": [
        "To use two or more argument specifiers, use a tuple (parentheses):"
      ]
    },
    {
      "cell_type": "code",
      "metadata": {
        "colab": {
          "base_uri": "https://localhost:8080/"
        },
        "id": "OjaurQL5dhPq",
        "outputId": "a71ca8d6-cdfd-45b4-f0af-c8ccf8bd590f"
      },
      "source": [
        "# This prints out \"John is 23 years old.\"\n",
        "name = \"John\"\n",
        "age = 23\n",
        "print(\"%s is %d years old.\" % (name, age))"
      ],
      "execution_count": null,
      "outputs": [
        {
          "output_type": "stream",
          "name": "stdout",
          "text": [
            "John is 23 years old.\n"
          ]
        }
      ]
    },
    {
      "cell_type": "markdown",
      "metadata": {
        "id": "OyASGVOkiR4J"
      },
      "source": [
        "Any object which is not a string can be formatted using the %s operator as well. The string which returns from the \"repr\" method of that object is formatted as the string. For example:"
      ]
    },
    {
      "cell_type": "code",
      "metadata": {
        "colab": {
          "base_uri": "https://localhost:8080/"
        },
        "id": "JYujma9yiS6d",
        "outputId": "a706cfbb-7e28-4ca0-c489-50410705eade"
      },
      "source": [
        "# This prints out: A list: [1, 2, 3]\n",
        "mylist = [1,2,3]\n",
        "print(\"A list: %s\" % mylist)"
      ],
      "execution_count": null,
      "outputs": [
        {
          "output_type": "stream",
          "name": "stdout",
          "text": [
            "A list: [1, 2, 3]\n"
          ]
        }
      ]
    },
    {
      "cell_type": "markdown",
      "metadata": {
        "id": "pcHlBXhTiwWr"
      },
      "source": [
        "Here are some basic argument specifiers you should know:\n",
        "\n",
        "%s - String (or any object with a string representation, like numbers)\n",
        "\n",
        "%d - Integers\n",
        "\n",
        "%f - Floating point numbers\n",
        "\n",
        "%.<number of digits>f - Floating point numbers with a fixed amount of digits to the right of the dot.\n",
        "\n",
        "%x/%X - Integers in hex representation (lowercase/uppercase)\n",
        "\n"
      ]
    },
    {
      "cell_type": "markdown",
      "metadata": {
        "id": "6a4Ws8wtjjiJ"
      },
      "source": [
        "**Exercise**\n",
        "\n",
        "You will need to write a format string which prints out the data using the following syntax: Hello John Doe. Your current balance is $53.44."
      ]
    },
    {
      "cell_type": "code",
      "metadata": {
        "colab": {
          "base_uri": "https://localhost:8080/"
        },
        "id": "hFBXbAznkJMv",
        "outputId": "c45f7336-24c4-45c5-b964-350ea3b0c3f4"
      },
      "source": [
        "data = (\"John\", \"Doe\", 53.44)\n",
        "format_string = \"Hello %s %s. Your current balance is $%s.\"\n",
        "\n",
        "print(format_string % data)"
      ],
      "execution_count": null,
      "outputs": [
        {
          "output_type": "stream",
          "name": "stdout",
          "text": [
            "Hello John Doe. Your current balance is $53.44.\n"
          ]
        }
      ]
    },
    {
      "cell_type": "markdown",
      "metadata": {
        "id": "mQOeLTtClJx2"
      },
      "source": [
        "##[Basic String Operations](https://learnpython.org/en/Basic_String_Operations)"
      ]
    },
    {
      "cell_type": "markdown",
      "metadata": {
        "id": "SN7ur1Itl-HA"
      },
      "source": [
        "Strings are bits of text. They can be defined as anything between quotes:"
      ]
    },
    {
      "cell_type": "code",
      "metadata": {
        "id": "EVNOYUiqmIXW"
      },
      "source": [
        "astring = \"Hello world!\"\n",
        "astring2 = 'Hello world!'"
      ],
      "execution_count": null,
      "outputs": []
    },
    {
      "cell_type": "markdown",
      "metadata": {
        "id": "jMoGLNbzmdTp"
      },
      "source": [
        "\n",
        "As you can see, the first thing you learned was printing a simple sentence. This sentence was stored by Python as a string. However, instead of immediately printing strings out, we will explore the various things you can do to them. You can also use single quotes to assign a string. However, you will face problems if the value to be assigned itself contains single quotes. For example to assign the string in these bracket(single quotes are ' ') you need to use double quotes only like this"
      ]
    },
    {
      "cell_type": "code",
      "metadata": {
        "colab": {
          "base_uri": "https://localhost:8080/"
        },
        "id": "ZBJpGmJZm0EV",
        "outputId": "33d579bb-843f-49c9-ca82-d66e294f4f8c"
      },
      "source": [
        "astring = \"Hello world!\"\n",
        "print(\"single quotes are ' '\")\n",
        "\n",
        "print(len(astring))"
      ],
      "execution_count": null,
      "outputs": [
        {
          "output_type": "stream",
          "name": "stdout",
          "text": [
            "single quotes are ' '\n",
            "12\n"
          ]
        }
      ]
    },
    {
      "cell_type": "markdown",
      "metadata": {
        "id": "y-FcCMoJnGfC"
      },
      "source": [
        "That prints out 12, because \"Hello world!\" is 12 characters long, including punctuation and spaces."
      ]
    },
    {
      "cell_type": "code",
      "metadata": {
        "colab": {
          "base_uri": "https://localhost:8080/"
        },
        "id": "R1hE_zvlnXU6",
        "outputId": "7deb7e91-fb72-4257-d250-058e803f566a"
      },
      "source": [
        "astring = \"Hello world!\"\n",
        "print(astring.index(\"o\"))"
      ],
      "execution_count": null,
      "outputs": [
        {
          "output_type": "stream",
          "name": "stdout",
          "text": [
            "4\n"
          ]
        }
      ]
    },
    {
      "cell_type": "markdown",
      "metadata": {
        "id": "TQZvR55-ncwD"
      },
      "source": [
        "That prints out 4, because the location of the first occurrence of the letter \"o\" is 4 characters away from the first character. Notice how there are actually two o's in the phrase - this method only recognizes the first.\n",
        "\n",
        "But why didn't it print out 5? Isn't \"o\" the fifth character in the string? To make things more simple, Python (and most other programming languages) start things at 0 instead of 1. So the index of \"o\" is 4.\n"
      ]
    },
    {
      "cell_type": "code",
      "metadata": {
        "colab": {
          "base_uri": "https://localhost:8080/"
        },
        "id": "yArX0NjYnyow",
        "outputId": "912ddfc5-55d2-49e0-ec34-e9d42d23ee31"
      },
      "source": [
        "astring = \"Hello world!\"\n",
        "print(astring.count(\"l\"))"
      ],
      "execution_count": null,
      "outputs": [
        {
          "output_type": "stream",
          "name": "stdout",
          "text": [
            "3\n"
          ]
        }
      ]
    },
    {
      "cell_type": "markdown",
      "metadata": {
        "id": "6J_NEL6CoOYv"
      },
      "source": [
        "For those of you using silly fonts, that is a lowercase L, not a number one. This counts the number of l's in the string. Therefore, it should print 3."
      ]
    },
    {
      "cell_type": "code",
      "metadata": {
        "colab": {
          "base_uri": "https://localhost:8080/"
        },
        "id": "Z-ZQG01oohol",
        "outputId": "e4a53163-f61b-462a-d1fb-f9953c4af074"
      },
      "source": [
        "astring = \"Hello world!\"\n",
        "print(astring[3:7])"
      ],
      "execution_count": null,
      "outputs": [
        {
          "output_type": "stream",
          "name": "stdout",
          "text": [
            "lo w\n"
          ]
        }
      ]
    },
    {
      "cell_type": "markdown",
      "metadata": {
        "id": "NwJBg2AKoodt"
      },
      "source": [
        "This prints a slice of the string, starting at index 3, and ending at index 6. But why 6 and not 7? Again, most programming languages do this - it makes doing math inside those brackets easier.\n",
        "\n",
        "If you just have one number in the brackets, it will give you the single character at that index. If you leave out the first number but keep the colon, it will give you a slice from the start to the number you left in. If you leave out the second number, it will give you a slice from the first number to the end.\n",
        "\n",
        "You can even put negative numbers inside the brackets. They are an easy way of starting at the end of the string instead of the beginning. This way, -3 means \"3rd character from the end\"."
      ]
    },
    {
      "cell_type": "code",
      "metadata": {
        "colab": {
          "base_uri": "https://localhost:8080/"
        },
        "id": "jETFB7M_o8R5",
        "outputId": "f8efedd9-2946-4fea-9605-b476b9731bae"
      },
      "source": [
        "astring = \"Hello world!\"\n",
        "print(astring[3:7:2])"
      ],
      "execution_count": null,
      "outputs": [
        {
          "output_type": "stream",
          "name": "stdout",
          "text": [
            "l \n"
          ]
        }
      ]
    },
    {
      "cell_type": "markdown",
      "metadata": {
        "id": "LsaIpdjLpAUc"
      },
      "source": [
        "This prints the characters of string from 3 to 7 skipping one character. This is extended slice syntax. The general form is [start:stop:step]."
      ]
    },
    {
      "cell_type": "code",
      "metadata": {
        "colab": {
          "base_uri": "https://localhost:8080/"
        },
        "id": "_7Uje3FLpKbk",
        "outputId": "7ea45c29-4299-4669-f8a7-55342509de61"
      },
      "source": [
        "astring = \"Hello world!\"\n",
        "print(astring[3:7])\n",
        "print(astring[3:7:1])"
      ],
      "execution_count": null,
      "outputs": [
        {
          "output_type": "stream",
          "name": "stdout",
          "text": [
            "lo w\n",
            "lo w\n"
          ]
        }
      ]
    },
    {
      "cell_type": "markdown",
      "metadata": {
        "id": "dBpl1zKOpPol"
      },
      "source": [
        "Note that both of them produce same output\n",
        "\n",
        "There is no function like strrev in C to reverse a string. But with the above mentioned type of slice syntax you can easily reverse a string like this"
      ]
    },
    {
      "cell_type": "code",
      "metadata": {
        "colab": {
          "base_uri": "https://localhost:8080/"
        },
        "id": "f451M3zHpcHD",
        "outputId": "78589420-2c0f-4cdf-ca92-20cec853baea"
      },
      "source": [
        "astring = \"Hello world!\"\n",
        "print(astring[::-1])"
      ],
      "execution_count": null,
      "outputs": [
        {
          "output_type": "stream",
          "name": "stdout",
          "text": [
            "!dlrow olleH\n"
          ]
        }
      ]
    },
    {
      "cell_type": "markdown",
      "metadata": {
        "id": "0jvsG-P3plvI"
      },
      "source": [
        "This"
      ]
    },
    {
      "cell_type": "code",
      "metadata": {
        "colab": {
          "base_uri": "https://localhost:8080/"
        },
        "id": "AbXSrhPUpsoB",
        "outputId": "8a3476a5-928e-4420-df46-4e037272a635"
      },
      "source": [
        "astring = \"Hello world!\"\n",
        "print(astring.upper())\n",
        "print(astring.lower())"
      ],
      "execution_count": null,
      "outputs": [
        {
          "output_type": "stream",
          "name": "stdout",
          "text": [
            "HELLO WORLD!\n",
            "hello world!\n"
          ]
        }
      ]
    },
    {
      "cell_type": "markdown",
      "metadata": {
        "id": "X9Vl98oSp0xm"
      },
      "source": [
        "These make a new string with all letters converted to uppercase and lowercase, respectively."
      ]
    },
    {
      "cell_type": "code",
      "metadata": {
        "colab": {
          "base_uri": "https://localhost:8080/"
        },
        "id": "FmK0hsd-p84L",
        "outputId": "bee229e7-41bc-4d86-e239-097ba228b0fd"
      },
      "source": [
        "astring = \"Hello world!\"\n",
        "print(astring.startswith(\"Hello\"))\n",
        "print(astring.endswith(\"asdfasdfasdf\"))"
      ],
      "execution_count": null,
      "outputs": [
        {
          "output_type": "stream",
          "name": "stdout",
          "text": [
            "True\n",
            "False\n"
          ]
        }
      ]
    },
    {
      "cell_type": "markdown",
      "metadata": {
        "id": "0oIDJw80qHBl"
      },
      "source": [
        "This is used to determine whether the string starts with something or ends with something, respectively. The first one will print True, as the string starts with \"Hello\". The second one will print False, as the string certainly does not end with \"asdfasdfasdf\"."
      ]
    },
    {
      "cell_type": "code",
      "metadata": {
        "id": "qwSOJbLxqVbd"
      },
      "source": [
        "astring = \"Hello world!\"\n",
        "afewwords = astring.split(\" \")"
      ],
      "execution_count": null,
      "outputs": []
    },
    {
      "cell_type": "markdown",
      "metadata": {
        "id": "yirpk4bHqiW9"
      },
      "source": [
        "This splits the string into a bunch of strings grouped together in a list. Since this example splits at a space, the first item in the list will be \"Hello\", and the second will be \"world!\""
      ]
    },
    {
      "cell_type": "markdown",
      "metadata": {
        "id": "XHP3nXbTqviy"
      },
      "source": [
        "**Exercise**\n",
        "\n",
        "Try to fix the code to print out the correct information by changing the string.\n"
      ]
    },
    {
      "cell_type": "code",
      "metadata": {
        "colab": {
          "base_uri": "https://localhost:8080/"
        },
        "id": "lHMXKou8rQda",
        "outputId": "864631f1-0164-4194-aee7-c43d6c8b20fa"
      },
      "source": [
        "s = \"Strings are awesome!\"\n",
        "# Length should be 20\n",
        "print(\"Length of s = %d\" % len(s))\n",
        "\n",
        "# First occurrence of \"a\" should be at index 8\n",
        "print(\"The first occurrence of the letter a = %d\" % s.index(\"a\"))\n",
        "\n",
        "# Number of a's should be 2\n",
        "print(\"a occurs %d times\" % s.count(\"a\"))\n",
        "\n",
        "# Slicing the string into bits\n",
        "print(\"The first five characters are '%s'\" % s[:5]) # Start to 5\n",
        "print(\"The next five characters are '%s'\" % s[5:10]) # 5 to 10\n",
        "print(\"The thirteenth character is '%s'\" % s[12]) # Just number 12\n",
        "print(\"The characters with odd index are '%s'\" %s[1::2]) #(0-based indexing)\n",
        "print(\"The last five characters are '%s'\" % s[-5:]) # 5th-from-last to end\n",
        "\n",
        "# Convert everything to uppercase\n",
        "print(\"String in uppercase: %s\" % s.upper())\n",
        "\n",
        "# Convert everything to lowercase\n",
        "print(\"String in lowercase: %s\" % s.lower())\n",
        "\n",
        "# Check how a string starts\n",
        "if s.startswith(\"Str\"):\n",
        "    print(\"String starts with 'Str'. Good!\")\n",
        "\n",
        "# Check how a string ends\n",
        "if s.endswith(\"ome!\"):\n",
        "    print(\"String ends with 'ome!'. Good!\")\n",
        "\n",
        "# Split the string into three separate strings,\n",
        "# each containing only a word\n",
        "print(\"Split the words of the string: %s\" % s.split(\" \"))"
      ],
      "execution_count": null,
      "outputs": [
        {
          "output_type": "stream",
          "name": "stdout",
          "text": [
            "Length of s = 20\n",
            "The first occurrence of the letter a = 8\n",
            "a occurs 2 times\n",
            "The first five characters are 'Strin'\n",
            "The next five characters are 'gs ar'\n",
            "The thirteenth character is 'a'\n",
            "The characters with odd index are 'tig r wsm!'\n",
            "The last five characters are 'some!'\n",
            "String in uppercase: STRINGS ARE AWESOME!\n",
            "String in lowercase: strings are awesome!\n",
            "String starts with 'Str'. Good!\n",
            "String ends with 'ome!'. Good!\n",
            "Split the words of the string: ['Strings', 'are', 'awesome!']\n"
          ]
        }
      ]
    },
    {
      "cell_type": "markdown",
      "metadata": {
        "id": "t4lw8NjzrgXw"
      },
      "source": [
        "## [Conditions](https://learnpython.org/en/Conditions)"
      ]
    },
    {
      "cell_type": "markdown",
      "metadata": {
        "id": "WheeRd0ur00l"
      },
      "source": [
        "Python uses boolean logic to evaluate conditions. The boolean values True and False are returned when an expression is compared or evaluated. For example:"
      ]
    },
    {
      "cell_type": "code",
      "metadata": {
        "colab": {
          "base_uri": "https://localhost:8080/"
        },
        "id": "NT0krD9usrYQ",
        "outputId": "54865686-e2db-4811-a503-a16ba0cff48d"
      },
      "source": [
        "x = 2\n",
        "print(x == 2) # prints out True\n",
        "print(x == 3) # prints out False\n",
        "print(x < 3) # prints out True"
      ],
      "execution_count": null,
      "outputs": [
        {
          "output_type": "stream",
          "name": "stdout",
          "text": [
            "True\n",
            "False\n",
            "True\n"
          ]
        }
      ]
    },
    {
      "cell_type": "markdown",
      "metadata": {
        "id": "h8swB1y4tD4L"
      },
      "source": [
        "Notice that variable assignment is done using a single equals operator \"=\", whereas comparison between two variables is done using the double equals operator \"==\". The \"not equals\" operator is marked as \"!=\"."
      ]
    },
    {
      "cell_type": "markdown",
      "metadata": {
        "id": "thXz88cjtREe"
      },
      "source": [
        "**Boolean operators**\n",
        "\n",
        "The \"and\" and \"or\" boolean operators allow building complex boolean expressions, for example"
      ]
    },
    {
      "cell_type": "code",
      "metadata": {
        "colab": {
          "base_uri": "https://localhost:8080/"
        },
        "id": "H7N_hyi1tfbP",
        "outputId": "39132f1a-80ec-46f0-b173-a39a487daf8a"
      },
      "source": [
        "name = \"John\"\n",
        "age = 23\n",
        "if name == \"John\" and age == 23:\n",
        "    print(\"Your name is John, and you are also 23 years old.\")\n",
        "\n",
        "if name == \"John\" or name == \"Rick\":\n",
        "    print(\"Your name is either John or Rick.\")"
      ],
      "execution_count": null,
      "outputs": [
        {
          "output_type": "stream",
          "name": "stdout",
          "text": [
            "Your name is John, and you are also 23 years old.\n",
            "Your name is either John or Rick.\n"
          ]
        }
      ]
    },
    {
      "cell_type": "markdown",
      "metadata": {
        "id": "VAuHhS1StzvI"
      },
      "source": [
        "**The \"in\" operator**\n",
        "\n",
        "The \"in\" operator could be used to check if a specified object exists within an iterable object container, such as a list:"
      ]
    },
    {
      "cell_type": "code",
      "source": [
        "name = \"John\"\n",
        "if name in [\"John\", \"Rick\"]:\n",
        "    print(\"Your name is either John or Rick.\")"
      ],
      "metadata": {
        "id": "7dmDlq2NG_-H"
      },
      "execution_count": null,
      "outputs": []
    },
    {
      "cell_type": "markdown",
      "source": [
        "Python uses indentation to define code blocks, instead of brackets. The standard Python indentation is 4 spaces, although tabs and any other space size will work, as long as it is consistent. Notice that code blocks do not need any termination.\n",
        "\n",
        "\n",
        "Here is an example for using Python's \"if\" statement using code blocks:\n"
      ],
      "metadata": {
        "id": "5R_-8Uu8HKeR"
      }
    },
    {
      "cell_type": "code",
      "source": [
        "statement = False\n",
        "another_statement = True\n",
        "if statement is True:\n",
        "    # do something\n",
        "    pass\n",
        "elif another_statement is True: # else if\n",
        "    # do something else\n",
        "    pass\n",
        "else:\n",
        "    # do another thing\n",
        "    pass"
      ],
      "metadata": {
        "id": "dnIPnpn-IIAy"
      },
      "execution_count": null,
      "outputs": []
    },
    {
      "cell_type": "markdown",
      "source": [
        "For example:"
      ],
      "metadata": {
        "id": "8biQSwvZIWy1"
      }
    },
    {
      "cell_type": "code",
      "source": [
        "x = 2\n",
        "if x == 2:\n",
        "    print(\"x equals two!\")\n",
        "else:\n",
        "    print(\"x does not equal to two.\")"
      ],
      "metadata": {
        "colab": {
          "base_uri": "https://localhost:8080/"
        },
        "id": "CkE_jIXRIYda",
        "outputId": "e999b085-cb25-4cac-f5a8-918f43f00c3a"
      },
      "execution_count": null,
      "outputs": [
        {
          "output_type": "stream",
          "name": "stdout",
          "text": [
            "x equals two!\n"
          ]
        }
      ]
    },
    {
      "cell_type": "markdown",
      "source": [
        "A statement is evaulated as true if one of the following is correct: 1. The \"True\" boolean variable is given, or calculated using an expression, such as an arithmetic comparison. 2. An object which is not considered \"empty\" is passed.\n",
        "\n",
        "Here are some examples for objects which are considered as empty: 1. An empty string: \"\" 2. An empty list: [] 3. The number zero: 0 4. The false boolean variable: False"
      ],
      "metadata": {
        "id": "Fcqoo8AaIgd5"
      }
    },
    {
      "cell_type": "markdown",
      "source": [
        "**The 'is' operator**\n",
        "\n",
        "Unlike the double equals operator \"==\", the \"is\" operator does not match the values of the variables, but the instances themselves. For example:\n"
      ],
      "metadata": {
        "id": "WxSG542mImro"
      }
    },
    {
      "cell_type": "code",
      "source": [
        "x = [1,2,3]\n",
        "y = [1,2,3]\n",
        "print(x == y) # Prints out True\n",
        "print(x is y) # Prints out False"
      ],
      "metadata": {
        "colab": {
          "base_uri": "https://localhost:8080/"
        },
        "id": "5TO4bFYNIvSA",
        "outputId": "1c94ca28-c774-470e-993d-44d6b85b9b5b"
      },
      "execution_count": null,
      "outputs": [
        {
          "output_type": "stream",
          "name": "stdout",
          "text": [
            "True\n",
            "False\n"
          ]
        }
      ]
    },
    {
      "cell_type": "markdown",
      "source": [
        "**The \"not\" operator**\n",
        "\n",
        "Using \"not\" before a boolean expression inverts it:"
      ],
      "metadata": {
        "id": "Wj69lMqtIu6V"
      }
    },
    {
      "cell_type": "code",
      "source": [
        "print(not False) # Prints out True\n",
        "print((not False) == (False)) # Prints out False"
      ],
      "metadata": {
        "colab": {
          "base_uri": "https://localhost:8080/"
        },
        "id": "1LvK__tvJE8P",
        "outputId": "3d8915eb-5cbe-43e8-96da-e6d002fc1970"
      },
      "execution_count": null,
      "outputs": [
        {
          "output_type": "stream",
          "name": "stdout",
          "text": [
            "True\n",
            "False\n"
          ]
        }
      ]
    },
    {
      "cell_type": "markdown",
      "source": [
        "**Exercise**\n",
        "\n",
        "Change the variables in the first section, so that each if statement resolves as True"
      ],
      "metadata": {
        "id": "qBa869mbJMRI"
      }
    },
    {
      "cell_type": "code",
      "source": [
        "# change this code\n",
        "number = 16\n",
        "second_number = 0\n",
        "first_array = [1,2,3]\n",
        "second_array = [1,2]\n",
        "\n",
        "if number > 15:\n",
        "    print(\"1\")\n",
        "\n",
        "if first_array:\n",
        "    print(\"2\")\n",
        "\n",
        "if len(second_array) == 2:\n",
        "    print(\"3\")\n",
        "\n",
        "if len(first_array) + len(second_array) == 5:\n",
        "    print(\"4\")\n",
        "\n",
        "if first_array and first_array[0] == 1:\n",
        "    print(\"5\")\n",
        "\n",
        "if not second_number:\n",
        "    print(\"6\")"
      ],
      "metadata": {
        "colab": {
          "base_uri": "https://localhost:8080/"
        },
        "id": "6yX3wwAFJrJl",
        "outputId": "a0597958-a145-4b7d-8cd1-a1e135d7a0e6"
      },
      "execution_count": null,
      "outputs": [
        {
          "output_type": "stream",
          "name": "stdout",
          "text": [
            "1\n",
            "2\n",
            "3\n",
            "4\n",
            "5\n",
            "6\n"
          ]
        }
      ]
    },
    {
      "cell_type": "markdown",
      "source": [
        "##[Loops](https://learnpython.org/en/Loops)"
      ],
      "metadata": {
        "id": "MWgss_STJwUl"
      }
    },
    {
      "cell_type": "markdown",
      "source": [
        "There are two types of loops in Python, for and while.\n",
        "\n",
        "    \n",
        "\n",
        "\n"
      ],
      "metadata": {
        "id": "HNaxHkYxK3po"
      }
    },
    {
      "cell_type": "markdown",
      "source": [
        "\n",
        "**The \"for\" loop**\n",
        "\n",
        "For loops iterate over a given sequence. Here is an example:\n"
      ],
      "metadata": {
        "id": "YAF4X9OZKELZ"
      }
    },
    {
      "cell_type": "markdown",
      "source": [
        "\n",
        "\n",
        "---\n",
        "\n"
      ],
      "metadata": {
        "id": "eJ3tU7--K_FJ"
      }
    },
    {
      "cell_type": "markdown",
      "metadata": {
        "id": "o-jNDGyW1FSL"
      },
      "source": [
        "# **2) Kalendarz Akademicki**\n",
        "\n",
        "\n"
      ]
    },
    {
      "cell_type": "markdown",
      "metadata": {
        "id": "Pi4Ffep5mytK"
      },
      "source": [
        "[Kalendarz-Izabella_Lusina.html](https://drive.google.com/file/d/1Vn98PaUQOs9qbCtsmUtdomNhH8jKqd9l/view)"
      ]
    },
    {
      "cell_type": "code",
      "metadata": {
        "id": "Yj6OA88iuyTs",
        "colab": {
          "base_uri": "https://localhost:8080/"
        },
        "outputId": "34ccbfeb-7adc-4605-91fb-653edec6199a"
      },
      "source": [
        "%%writefile /content/drive/MyDrive/Techinf/Kalendarz-Izabella-Lusina/Kalendarz-Izabella_Lusina.html\n",
        "\n",
        "<!DOCTYPE html>\n",
        "<html lang='pl'>\n",
        "\n",
        "<head>\n",
        "    <meta charset=\"UTF-8\" />\n",
        "    <title> Kalendarz Akademicki</title>\n",
        "    <style>\n",
        "        table {\n",
        "            border-collapse: collapse;\n",
        "            font-family: Arial;\n",
        "            border: 4px solid black;\n",
        "        }\n",
        "        \n",
        "        td {\n",
        "            border: 1px solid black;\n",
        "            padding: 8px;\n",
        "            text-align: center;\n",
        "            width: 40px;\n",
        "        }\n",
        "        \n",
        "        p {\n",
        "            font-size: 10px;\n",
        "            margin: 1px;\n",
        "        }\n",
        "        \n",
        "        .t {\n",
        "            border-top: 4px solid black;\n",
        "        }\n",
        "        \n",
        "        .b {\n",
        "            border-bottom: 4px solid black;\n",
        "        }\n",
        "        \n",
        "        .l {\n",
        "            border-left: 4px solid black;\n",
        "        }\n",
        "        \n",
        "        .r {\n",
        "            border-right: 4px solid black;\n",
        "        }\n",
        "        \n",
        "        .rd {\n",
        "            background-color: #FF0000;\n",
        "        }\n",
        "        \n",
        "        .msg {\n",
        "            background-color: #D2B48C;\n",
        "            ;\n",
        "        }\n",
        "        \n",
        "        .yw {\n",
        "            background-color: #FFFF00;\n",
        "            padding-top: 4px;\n",
        "            padding-bottom: 4px;\n",
        "        }\n",
        "        \n",
        "        .cl {\n",
        "            background-color: #1e90ff;\n",
        "        }\n",
        "        \n",
        "        .dt {\n",
        "            background-color: #D8BFD8;\n",
        "        }\n",
        "        \n",
        "        .mc {\n",
        "            background-color: #E6E6FA;\n",
        "        }\n",
        "        \n",
        "        .swg {\n",
        "            color: #FFFAFA;\n",
        "            background-color: #808080;\n",
        "        }\n",
        "        \n",
        "        .ab {\n",
        "            color: #C0C0C0;\n",
        "        }\n",
        "        \n",
        "        .tit {\n",
        "            color: #808080;\n",
        "            font-size: x-large;\n",
        "            font-family: 'Trebuchet MS', 'Lucida Sans Unicode', 'Lucida Grande', 'Lucida Sans', Arial, sans-serif;\n",
        "        }\n",
        "        \n",
        "        .tab {\n",
        "            background-color: #fefefa;\n",
        "        }\n",
        "        \n",
        "        .bdc {\n",
        "            background-image: url('data:image/png;base64,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')\n",
        "        }\n",
        "    </style>\n",
        "</head>\n",
        "\n",
        "<body class=\"bdc\">\n",
        "\n",
        "    <header>\n",
        "        <h1 class=\"tit\"> Kalendarz Akademicki |Semestr Zimowy 2021/2022|\n",
        "\n",
        "        </h1>\n",
        "        <a href=\"https://upwr.edu.pl/\"> <img src=\" data:image/png;base64,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\" alt=\"Uniwersytet Przyrodniczy we Wrocławiu\"></a>\n",
        "    </header>\n",
        "    <table class=\"tab\">\n",
        "        <tr>\n",
        "            <td class=\"mc b r t l\" colspan=\"1\"></td>\n",
        "            <td class=\"mc b r t\" colspan=\"1\"></td>\n",
        "            <td class=\"mc b r t\" colspan=\"4\"><b>PAŹDZIERNIK</b></td>\n",
        "            <td class=\"mc b r t\" colspan=\"5\"><b>LISTOPAD</b></td>\n",
        "            <td class=\"mc b r t\" colspan=\"4\"><b>GRUDZIEŃ</b></td>\n",
        "            <td class=\"mc b r t\" colspan=\"5\"><b>STYCZEŃ</b></td>\n",
        "            <td class=\"mc b r t\" colspan=\"3\"><b>LUTY</b></td>\n",
        "        </tr>\n",
        "\n",
        "        <!-- PONIEDZIAŁEK -->\n",
        "\n",
        "        <tr>\n",
        "            <td class=\"dt r l\"><b>PN</b></td>\n",
        "            <td class=\"r ab\">27</td>\n",
        "            <td title='Inauguracja roku akademickiego (dzień wolny od zajęć\n",
        "                       dydaktycznych).' class=\"rd\">4</td>\n",
        "            <td>11</td>\n",
        "            <td>18</td>\n",
        "            <td class=\"r\">25</td>\n",
        "\n",
        "            <td title='Wszystkich Świętych.' class=\"rd\"><a target='_blank' href='https://pl.wikipedia.org/wiki/1_listopada'>1</a></td>\n",
        "            <td>8</td>\n",
        "            <td title='Święto Uniwersytetu Przyrodniczego we Wrocławiu.' class=\"rd\"><a target='_blank' href='https://upwr.edu.pl/aktualnosci/swieto-uniwersytetu-przyrodniczego-we-wroclawiu-3320.html'>15</a>\n",
        "            </td>\n",
        "            <td>22</td>\n",
        "            <td class=\"r\">29</td>\n",
        "\n",
        "            <td>6</td>\n",
        "            <td>13</td>\n",
        "            <td>20</td>\n",
        "            <td title='Ferie zimowe' class=\"rd r\">27</td>\n",
        "\n",
        "            <td>3</td>\n",
        "            <td>10</td>\n",
        "            <td>17</td>\n",
        "            <td>24</td>\n",
        "            <td class=\"r b\">31</td>\n",
        "\n",
        "            <td title='Sesja egzaminacyjna' class=\"cl\">7</td>\n",
        "            <td title='Sesja egzaminacyjna' class=\"cl\">14</td>\n",
        "            <td title='Przerwa semestralna' class=\"rd r\">21</td>\n",
        "        </tr>\n",
        "\n",
        "        <!-- WTOREK -->\n",
        "\n",
        "        <tr>\n",
        "\n",
        "            <td class=\"dt r l\"><b>WT</b></td>\n",
        "            <td class=\"r ab\">28</td>\n",
        "            <td>5</td>\n",
        "            <td>12</td>\n",
        "            <td>19</td>\n",
        "            <td class=\"r\">26</td>\n",
        "\n",
        "            <td title='Dzień Zaduszny.' class=\"rd\">2</td>\n",
        "            <td>9</td>\n",
        "            <td>16</td>\n",
        "            <td>23</td>\n",
        "            <td class=\"r\">30</td>\n",
        "\n",
        "            <td>7</td>\n",
        "            <td>14</td>\n",
        "            <td>21</td>\n",
        "            <td title='Ferie zimowe' class=\"r rd\">28</td>\n",
        "\n",
        "            <td>4</td>\n",
        "            <td>11</td>\n",
        "            <td>18</td>\n",
        "            <td class=\"r\">25</td>\n",
        "\n",
        "            <td title='Zajęcia odbywają się według rozkładu zajęć\n",
        "                        jak w czwartek.' class=\"yw\">\n",
        "                <p>WT/CZW</p>1\n",
        "            </td>\n",
        "            <td title='Sesja egzaminacyjna' class=\"cl\">8</td>\n",
        "            <td title='Sesja egzaminacyjna' class=\"cl\">15</td>\n",
        "            <td title='Przerwa semestralna' class=\"rd r\">22</td>\n",
        "        </tr>\n",
        "\n",
        "        <!-- ŚRODA -->\n",
        "\n",
        "        <tr>\n",
        "\n",
        "            <td class=\"dt r l\"><b>ŚR</b></td>\n",
        "            <td class=\"ab r\">29</td>\n",
        "            <td>6</td>\n",
        "            <td>13</td>\n",
        "            <td>20</td>\n",
        "            <td class=\"r\">27</td>\n",
        "\n",
        "            <td>3</td>\n",
        "            <td>10</td>\n",
        "            <td>17</td>\n",
        "            <td class=\"r\">24</td>\n",
        "\n",
        "            <td class=\"t\">1</td>\n",
        "            <td>8</td>\n",
        "            <td>15</td>\n",
        "            <td title='Zajęcia odbywają się według rozkładu zajęć\n",
        "                       jak w czwartek.' class=\"yw\">\n",
        "                <p>ŚR/CZW</p>22\n",
        "            </td>\n",
        "            <td title='Ferie zimowe' class=\"r rd\">29</td>\n",
        "\n",
        "            <td>5</td>\n",
        "            <td>12</td>\n",
        "            <td>19</td>\n",
        "            <td class=\"r\">26</td>\n",
        "\n",
        "            <td title='Zajęcia odbywają się według rozkładu zajęć\n",
        "                       jak w piątek.' class=\"yw\">\n",
        "                <p>ŚR/PT</p>2\n",
        "            </td>\n",
        "            <td title='Sesja egzaminacyjna' class=\"cl\">9</td>\n",
        "            <td title='Sesja egzaminacyjna' class=\"cl\">16</td>\n",
        "            <td title='Przerwa semestralna' class=\"rd r\">23</td>\n",
        "        </tr>\n",
        "\n",
        "        <!-- CZWARTEK -->\n",
        "\n",
        "        <tr>\n",
        "\n",
        "            <td class=\"dt r l\"><b>CZW</b></td>\n",
        "            <td class=\"ab r b\">30</td>\n",
        "            <td>7</td>\n",
        "            <td>14</td>\n",
        "            <td>21</td>\n",
        "            <td class=\"r\">28</td>\n",
        "\n",
        "            <td>4</td>\n",
        "            <td title='Narodowe Święto Niepodległości.' class=\"rd\"><a target='_blank' href='https://pl.wikipedia.org/wiki/Narodowe_%C5%9Awi%C4%99to_Niepodleg%C5%82o%C5%9Bci'>11</a></td>\n",
        "            <td>18</td>\n",
        "            <td class=\"r\">25</td>\n",
        "\n",
        "            <td>2</td>\n",
        "            <td>9</td>\n",
        "            <td>16</td>\n",
        "            <td title='Ferie zimowe.' class=\"rd\">23</td>\n",
        "            <td title='Ferie zimowe' class=\"rd\">30</td>\n",
        "\n",
        "            <td title='Święto Trzech Króli' class=\"l rd\">\n",
        "                <a target='_blank' href='https://pl.wikipedia.org/wiki/Objawienie_Pa%C5%84skie'>6</a>\n",
        "            </td>\n",
        "            <td>13</td>\n",
        "            <td>20</td>\n",
        "            <td class=\"r\">27</td>\n",
        "\n",
        "            <td title='Zajęcia odbywają się według rozkładu\n",
        "                        zajęć jak w poniedziałek.' class=\"yw\">\n",
        "                <p>CZW/PN</p>3\n",
        "            </td>\n",
        "            <td title='Sesja egzaminacyjna' class=\"cl\">10</td>\n",
        "            <td title='Przerwa semestralna' class=\"rd\">17</td>\n",
        "            <td title='Przerwa semestralna' class=\"rd r\">24</td>\n",
        "        </tr>\n",
        "\n",
        "        <!-- PIĄTEK -->\n",
        "\n",
        "        <tr>\n",
        "\n",
        "\n",
        "            <td class=\"dt r l\"><b>PT</b></td>\n",
        "            <td title='Początek roku akademickiego -\n",
        "                        początek semestru zimowego.' class=\"rd\">1</td>\n",
        "            <td>8</td>\n",
        "            <td>15</td>\n",
        "            <td>22</td>\n",
        "            <td title='Przerwa semestralna' class=\"r\">29</td>\n",
        "            <td>5</td>\n",
        "            <td title='Dzień wolny od zajęć.' class=\"rd\">12</td>\n",
        "            <td>19</td>\n",
        "            <td class=\"r\">26</td>\n",
        "\n",
        "            <td>3</td>\n",
        "            <td>10</td>\n",
        "            <td>17</td>\n",
        "            <td title='Wigilia.' class=\"rd\"><a target='_blank' href='https://pl.wikipedia.org/wiki/Wigilia_Bo%C5%BCego_Narodzenia'>24</a></td>\n",
        "            <td title='Sylwester' class=\"rd r\"><a target='_blank' href='https://pl.wikipedia.org/wiki/Sylwester_(%C5%9Bwi%C4%99to)'>31</a></td>\n",
        "            <td title='Dzień wolny od zajęć' class=\"rd\">7</td>\n",
        "            <td>14</td>\n",
        "            <td>21</td>\n",
        "            <td>28</td>\n",
        "\n",
        "            <td class=\"l\">4</td>\n",
        "            <td title='Sesja egzaminacyjna' class=\"cl\">11</td>\n",
        "            <td title='Przerwa semestralna\n",
        "            * Zamknięcie systemu USOS dla studiów stacjonarnych i niestacjonarnych.' class=\"rd\">18</td>\n",
        "            <td title='Przerwa semestralna' class=\"rd r\">25</td>\n",
        "\n",
        "\n",
        "        </tr>\n",
        "\n",
        "        <!-- SOBOTA -->\n",
        "\n",
        "        <tr>\n",
        "\n",
        "            <td class=\"dt r l\"> <b>SOB</b></td>\n",
        "            <td class=\"swg\">2</td>\n",
        "            <td class=\"swg\">9</td>\n",
        "            <td class=\"swg\">16</td>\n",
        "            <td class=\"swg\">23</td>\n",
        "            <td class=\"swg r\">30</td>\n",
        "\n",
        "            <td class=\"swg\">6</td>\n",
        "            <td class=\"swg\">13</td>\n",
        "            <td class=\"swg\">20</td>\n",
        "            <td class=\"swg r\">27</td>\n",
        "\n",
        "            <td class=\"swg\">4</td>\n",
        "            <td class=\"swg\">11</td>\n",
        "            <td class=\"swg\">18</td>\n",
        "            <td title='Boże Narodzenie' class=\"r rd\"><a target='_blank' href='https://pl.wikipedia.org/wiki/Bo%C5%BCe_Narodzenie'>25</a></td>\n",
        "            <td title='Nowy Rok' class=\"swg t\"><a target='_blank' href='https://pl.wikipedia.org/wiki/Nowy_Rok'>1</a>\n",
        "            </td>\n",
        "            <td class=\"swg\">8</td>\n",
        "            <td class=\"swg\">15</td>\n",
        "            <td class=\"swg\">22</td>\n",
        "            <td class=\"swg r\">29</td>\n",
        "\n",
        "            <td class=\"swg\">5</td>\n",
        "            <td class=\"swg\">12</td>\n",
        "            <td title='Przerwa semestralna' class=\"swg\">19</td>\n",
        "            <td title='Przerwa semestralna' class=\"swg r\">26</td>\n",
        "\n",
        "        </tr>\n",
        "\n",
        "        <!-- NIEDZIELA -->\n",
        "\n",
        "        <tr>\n",
        "\n",
        "            <td class=\"dt r l b\"><b>ND</b></td>\n",
        "            <td class=\"swg b\">3</td>\n",
        "            <td class=\"swg b\">10</td>\n",
        "            <td class=\"swg b\">17</td>\n",
        "            <td class=\"swg b\">24</td>\n",
        "            <td class=\"swg r b\">31</td>\n",
        "\n",
        "            <td class=\"swg b\">7</td>\n",
        "            <td class=\"swg b\">14</td>\n",
        "            <td class=\"swg b\">21</td>\n",
        "            <td class=\"swg r b\">28</td>\n",
        "\n",
        "            <td class=\"swg b\">5</td>\n",
        "            <td class=\"swg b\">12</td>\n",
        "            <td class=\"swg b\">19</td>\n",
        "            <td title='Drugi dzień świąt\n",
        "                   Bożego Narodzenia' class=\"rd r b\">26</td>\n",
        "\n",
        "            <td title='Ferie zimowe' class=\"swg b\">2</td>\n",
        "            <td class=\"swg b\">9</td>\n",
        "            <td class=\"swg b\">16</td>\n",
        "            <td class=\"swg b\">23</td>\n",
        "            <td class=\"swg r b\">30</td>\n",
        "\n",
        "            <td class=\"swg b\">6</td>\n",
        "            <td class=\"swg b\">13</td>\n",
        "            <td title='Przerwa semestralna' class=\"swg b\">20</td>\n",
        "            <td title='Przerwa semestralna\n",
        "            *27-28.02 - Zapisy na przedmioty ogólnouczelniane (języki obce, wychowanie fizyczne, \n",
        "            przedmioty z dziedziny nauk humanistycznych i społecznych, w tym Przedsiębiorczość \n",
        "            akademicka oraz Innowacje).' class=\"swg r b\">27</td>\n",
        "        </tr>\n",
        "    </table>\n",
        "    <footer>\n",
        "        <p>Autor strony: Isabella Lusina </p>\n",
        "        <p>Zdjęcie należy do strony: https://upwr.edu.pl/</p>\n",
        "        <p>Layout wykonany przez autora strony, wszelkie prawa zastrzeżone.</p>\n",
        "        <img src=\" data:image/png;base64,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\" alt=\"#upwr\">\n",
        "    </footer>\n",
        "</body>\n",
        "\n",
        "</html>"
      ],
      "execution_count": null,
      "outputs": [
        {
          "output_type": "stream",
          "name": "stdout",
          "text": [
            "Overwriting /content/drive/MyDrive/Techinf/Kalendarz-Izabella-Lusina/Kalendarz-Izabella_Lusina.html\n"
          ]
        }
      ]
    },
    {
      "cell_type": "code",
      "metadata": {
        "id": "TgSBBGpUxMOl",
        "colab": {
          "base_uri": "https://localhost:8080/"
        },
        "outputId": "0cc53c49-ba12-4116-ba0a-9d22b49026c7"
      },
      "source": [
        "from google.colab import drive\n",
        "drive.mount('/content/drive')"
      ],
      "execution_count": null,
      "outputs": [
        {
          "output_type": "stream",
          "name": "stdout",
          "text": [
            "Drive already mounted at /content/drive; to attempt to forcibly remount, call drive.mount(\"/content/drive\", force_remount=True).\n"
          ]
        }
      ]
    },
    {
      "cell_type": "markdown",
      "source": [
        "\n",
        "\n",
        "---\n",
        "\n",
        "\n",
        "\n",
        "\n"
      ],
      "metadata": {
        "id": "EIK5gYapLEFC"
      }
    },
    {
      "cell_type": "markdown",
      "metadata": {
        "id": "NIzc-5xJoXPR"
      },
      "source": [
        "# **3) Markdown in Colab**\n",
        "\n",
        "\n",
        "\n",
        "\n",
        "\n",
        "\n"
      ]
    },
    {
      "cell_type": "markdown",
      "metadata": {
        "id": "QhQM-PTerZC6"
      },
      "source": [
        "## [Emphasis](https://commonmark.org/help/tutorial/02-emphasis.html)"
      ]
    },
    {
      "cell_type": "markdown",
      "metadata": {
        "id": "LrbtxWwEtN9C"
      },
      "source": [
        "```\n",
        "The music video for Rihanna’s song **American Oxygen** depicts various moments from American history, including the inauguration of Barack Obama.\n",
        "```\n",
        "\n"
      ]
    },
    {
      "cell_type": "markdown",
      "metadata": {
        "id": "K8nar1v_tLEP"
      },
      "source": [
        "The music video for Rihanna’s song **American Oxygen** depicts various moments from American history, including the inauguration of Barack Obama."
      ]
    },
    {
      "cell_type": "markdown",
      "metadata": {
        "id": "0jbUDWGYtjj_"
      },
      "source": [
        "\n",
        "\n",
        "```\n",
        "<p>The music video for Rihanna’s song <strong>American Oxygen</strong> depicts various moments from American history, including the inauguration of Barack Obama.</p>\n",
        "```\n",
        "\n"
      ]
    },
    {
      "cell_type": "markdown",
      "metadata": {
        "id": "7mQWZhast332"
      },
      "source": [
        "\n",
        "<p>The music video for Rihanna’s song <strong>American Oxygen</strong> depicts various moments from American history, including the inauguration of Barack Obama.</p>\n",
        "\n"
      ]
    },
    {
      "cell_type": "markdown",
      "metadata": {
        "id": "MJA-g8Qc8CpQ"
      },
      "source": [
        "```\n",
        "Why, sometimes I’ve believed as many as _six_ impossible things before breakfast.\n",
        "\n",
        "```\n",
        "\n",
        "\n"
      ]
    },
    {
      "cell_type": "markdown",
      "metadata": {
        "id": "V3_H-TvWuM7_"
      },
      "source": [
        "Why, sometimes I’ve believed as many as _six_ impossible things before breakfast."
      ]
    },
    {
      "cell_type": "markdown",
      "metadata": {
        "id": "fPcqrjGJ7Rj-"
      },
      "source": [
        "```\n",
        "<p>Why, sometimes I’ve believed as many as <em>six</em> impossible things before breakfast.</p>\n",
        "```\n",
        "\n"
      ]
    },
    {
      "cell_type": "markdown",
      "metadata": {
        "id": "_36D0fUw76Ht"
      },
      "source": [
        "<p>Why, sometimes I’ve believed as many as <em>six</em> impossible things before breakfast.</p>"
      ]
    },
    {
      "cell_type": "markdown",
      "metadata": {
        "id": "SK2zoUtc7eQ9"
      },
      "source": [
        "```\n",
        "**Everyone _must_ attend the meeting at 5 o’clock today.**\n",
        "```\n",
        "\n"
      ]
    },
    {
      "cell_type": "markdown",
      "metadata": {
        "id": "_JwUzKcP9Ggd"
      },
      "source": [
        "**Everyone _must_ attend the meeting at 5 o’clock today.**"
      ]
    },
    {
      "cell_type": "markdown",
      "metadata": {
        "id": "T0Da7Tkk9L8b"
      },
      "source": [
        "```\n",
        "<p><strong>Everyone <em>must</em> attend the meeting at 5 o’clock today.</strong></p>\n",
        "```\n",
        "\n"
      ]
    },
    {
      "cell_type": "markdown",
      "metadata": {
        "id": "zZdR0YL19cqU"
      },
      "source": [
        "<p><strong>Everyone <em>must</em> attend the meeting at 5 o’clock today.</strong></p>"
      ]
    },
    {
      "cell_type": "markdown",
      "metadata": {
        "id": "QcKZE5Fc9eXZ"
      },
      "source": [
        "```\n",
        "I am totally awesome.*\n",
        "\n",
        "* for certain very small values of awesome\n",
        "```\n",
        "\n"
      ]
    },
    {
      "cell_type": "markdown",
      "metadata": {
        "id": "g67WSOhH9yr7"
      },
      "source": [
        "I am totally awesome.*\n",
        "\n",
        "* for certain very small values of awesome"
      ]
    },
    {
      "cell_type": "markdown",
      "metadata": {
        "id": "oSLfrwst91dg"
      },
      "source": [
        "```\n",
        "<p>I am totally awesome.*</p>\n",
        "<p>* for certain very small values of awesome</p>\n",
        "\n",
        "```\n",
        "\n"
      ]
    },
    {
      "cell_type": "markdown",
      "metadata": {
        "id": "xfxB2KZ1_UiL"
      },
      "source": [
        "<p>I am totally awesome.*</p>\n",
        "<ul>\n",
        "<li> for certain very small values of awesome</li>\n",
        "<u/>\n",
        "\n",
        "\n",
        "\n"
      ]
    },
    {
      "cell_type": "markdown",
      "metadata": {
        "id": "Z8ER1ORT_raA"
      },
      "source": [
        "## [Paragraphs](https://https://commonmark.org/help/tutorial/03-paragraphs.html)"
      ]
    },
    {
      "cell_type": "markdown",
      "metadata": {
        "id": "i1fGVIiZ_kEv"
      },
      "source": [
        "```\n",
        "The sky above the port was the color of television, tuned to a dead channel.\n",
        "\n",
        "It was a bright cold day in April, and the clocks were striking thirteen.\n",
        "```\n",
        "\n",
        "\n",
        "\n",
        "\n"
      ]
    },
    {
      "cell_type": "markdown",
      "metadata": {
        "id": "PGNXsX4j_Xw8"
      },
      "source": [
        "The sky above the port was the color of television, tuned to a dead channel.\n",
        " \n",
        "It was a bright cold day in April, and the clocks were striking thirteen."
      ]
    },
    {
      "cell_type": "markdown",
      "metadata": {
        "id": "nk2IO2T_CZwx"
      },
      "source": [
        "```\n",
        "<p>The sky above the port was the color of television, tuned to a dead channel.</p>\n",
        "<p>It was a bright cold day in April, and the clocks were striking thirteen.</p>\n",
        "```\n",
        "\n"
      ]
    },
    {
      "cell_type": "markdown",
      "metadata": {
        "id": "Zad1g4rbC3Hk"
      },
      "source": [
        "<p>The sky above the port was the color of television, tuned to a dead channel.</p>\n",
        "<p>It was a bright cold day in April, and the clocks were striking thirteen.</p>"
      ]
    },
    {
      "cell_type": "markdown",
      "metadata": {
        "id": "RLvgiTQAC6LQ"
      },
      "source": [
        "```\n",
        "I have eaten\\\n",
        "the plums\\\n",
        "that were in\\\n",
        "the icebox\n",
        "```\n",
        "\n"
      ]
    },
    {
      "cell_type": "markdown",
      "metadata": {
        "id": "5-6VT_EYDrkG"
      },
      "source": [
        "I have eaten\\\n",
        "the plums\\\n",
        "that were in\\\n",
        "the icebox"
      ]
    },
    {
      "cell_type": "markdown",
      "metadata": {
        "id": "Wg8HpYqzDwDi"
      },
      "source": [
        "```\n",
        "<p>I have eaten<br>\n",
        "the plums<br>\n",
        "that were in<br>\n",
        "the icebox</p>\n",
        "```\n",
        "\n"
      ]
    },
    {
      "cell_type": "markdown",
      "metadata": {
        "id": "bV-u4j1VD_f9"
      },
      "source": [
        "<p>I have eaten<br>\n",
        "the plums<br>\n",
        "that were in<br>\n",
        "the icebox</p>"
      ]
    },
    {
      "cell_type": "markdown",
      "metadata": {
        "id": "11n2zkKNEB9h"
      },
      "source": [
        "## [Headings](https://commonmark.org/help/tutorial/04-headings.html)"
      ]
    },
    {
      "cell_type": "markdown",
      "metadata": {
        "id": "Wn7KTyQ9EZek"
      },
      "source": [
        "```\n",
        "## Chapter 1\n",
        "Something about the room made him uneasy.\n",
        "## Chapter 2\n",
        "It's behind you! Hurry before it\n",
        "```\n",
        "\n"
      ]
    },
    {
      "cell_type": "markdown",
      "metadata": {
        "id": "9fvU5H-yE5Us"
      },
      "source": [
        "## Chapter 1\n",
        "Something about the room made him uneasy.\n",
        "### Chapter 2\n",
        "It's behind you! Hurry before it"
      ]
    },
    {
      "cell_type": "markdown",
      "metadata": {
        "id": "S05hxenTE7Ca"
      },
      "source": [
        "```\n",
        "<h2>Chapter 1</h2>\n",
        "<p>Something about the room made him uneasy.</p>\n",
        "<h2>Chapter 2</h2>\n",
        "<p>It's behind you! Hurry before it</p>\n",
        "```\n",
        "\n"
      ]
    },
    {
      "cell_type": "markdown",
      "metadata": {
        "id": "Uh6ip5WCFXlf"
      },
      "source": [
        "<h2>Chapter 1</h2>\n",
        "<p>Something about the room made him uneasy.</p>\n",
        "<h2>Chapter 2</h2>\n",
        "<p>It's behind you! Hurry before it</p>"
      ]
    },
    {
      "cell_type": "markdown",
      "metadata": {
        "id": "MVIbz-8mFmku"
      },
      "source": [
        "```\n",
        "# After the Big Bang\n",
        "A brief summary of time\n",
        "## Life on earth\n",
        "10 billion years\n",
        "## You reading this\n",
        "13.7 billion years\n",
        "```\n",
        "\n"
      ]
    },
    {
      "cell_type": "markdown",
      "metadata": {
        "id": "C2W5744LGEVb"
      },
      "source": [
        "## After the Big Bang\n",
        "A brief summary of time\n",
        "### Life on earth\n",
        "10 billion years\n",
        "### You reading this\n",
        "13.7 billion years"
      ]
    },
    {
      "cell_type": "markdown",
      "metadata": {
        "id": "bkoOxojRGIgG"
      },
      "source": [
        "\n",
        "```\n",
        "<h1>After the Big Bang</h1>\n",
        "<p>A brief summary of time</p>\n",
        "<h2>Life on earth</h2>\n",
        "<p>10 billion years</p>\n",
        "<h2>You reading this</h2>\n",
        "<p>13.7 billion years</p>\n",
        "```\n",
        "\n"
      ]
    },
    {
      "cell_type": "markdown",
      "metadata": {
        "id": "i9-arHp1GTuT"
      },
      "source": [
        "<h1>After the Big Bang</h1>\n",
        "<p>A brief summary of time</p>\n",
        "<h2>Life on earth</h2>\n",
        "<p>10 billion years</p>\n",
        "<h2>You reading this</h2>\n",
        "<p>13.7 billion years</p>"
      ]
    },
    {
      "cell_type": "markdown",
      "metadata": {
        "id": "RYcOscH-GXHU"
      },
      "source": [
        "##  [Blockquotes](https://commonmark.org/help/tutorial/05-blockquotes.html)"
      ]
    },
    {
      "cell_type": "markdown",
      "metadata": {
        "id": "ny7t-2-8G-ZU"
      },
      "source": [
        "\n",
        "\n",
        "```\n",
        "The quote\n",
        "\n",
        "> Somewhere, something incredible is waiting to be known\n",
        "\n",
        "has been ascribed to Carl Sagan\n",
        "```\n",
        "\n"
      ]
    },
    {
      "cell_type": "markdown",
      "metadata": {
        "id": "eqMdIXizHXGA"
      },
      "source": [
        "The quote\n",
        "\n",
        "> Somewhere, something incredible is waiting to be known\n",
        "\n",
        "has been ascribed to Carl Sagan"
      ]
    },
    {
      "cell_type": "markdown",
      "metadata": {
        "id": "9Jy8wAB7HmmL"
      },
      "source": [
        "\n",
        "\n",
        "```\n",
        "<p>The quote</p>\n",
        "<blockquote>\n",
        "<p>Somewhere, something incredible is waiting to be known</p>\n",
        "</blockquote>\n",
        "<p>has been ascribed to Carl Sagan.</p>\n",
        "```\n",
        "\n"
      ]
    },
    {
      "cell_type": "markdown",
      "metadata": {
        "id": "duxbK9iYHvo3"
      },
      "source": [
        "<p>The quote</p>\n",
        "<blockquote>\n",
        "<p>Somewhere, something incredible is waiting to be known</p>\n",
        "</blockquote>\n",
        "<p>has been ascribed to Carl Sagan.</p>"
      ]
    },
    {
      "cell_type": "markdown",
      "metadata": {
        "id": "HxKtOgQBHxWk"
      },
      "source": [
        "\n",
        "\n",
        "```\n",
        "My favorite Miss Manners quotes:\n",
        "\n",
        "> Allowing an unimportant mistake to pass without comment is a wonderful social grace.\n",
        ">\n",
        "> Ideological differences are no excuse for rudeness.\n",
        "```\n",
        "\n"
      ]
    },
    {
      "cell_type": "markdown",
      "metadata": {
        "id": "CCyp3h9ZH7u3"
      },
      "source": [
        "My favorite Miss Manners quotes:\n",
        "\n",
        "> Allowing an unimportant mistake to pass without comment is a wonderful social grace.\n",
        ">\n",
        "> Ideological differences are no excuse for rudeness."
      ]
    },
    {
      "cell_type": "markdown",
      "metadata": {
        "id": "s8POx819H9aE"
      },
      "source": [
        "```\n",
        "<p>My favorite Miss Manners quotes:</p>\n",
        "<blockquote>\n",
        "<p>Allowing an unimportant mistake to pass without comment is a wonderful social grace.</p>\n",
        "<p>Ideological differences are no excuse for rudeness.</p>\n",
        "</blockquote>\n",
        "```\n",
        "\n"
      ]
    },
    {
      "cell_type": "markdown",
      "metadata": {
        "id": "bXWcQqC3HZoU"
      },
      "source": [
        "\n",
        "<p>My favorite Miss Manners quotes:</p>\n",
        "<blockquote>\n",
        "<p>Allowing an unimportant mistake to pass without comment is a wonderful social grace.</p>\n",
        "<p>Ideological differences are no excuse for rudeness.</p>\n",
        "</blockquote>"
      ]
    },
    {
      "cell_type": "markdown",
      "metadata": {
        "id": "Eq0N795FHUB5"
      },
      "source": [
        "##  [Lists](https://commonmark.org/help/tutorial/06-lists.html)"
      ]
    },
    {
      "cell_type": "markdown",
      "metadata": {
        "id": "331c2qxnI3KP"
      },
      "source": [
        "\n",
        "```\n",
        "- Flour\n",
        "- Cheese\n",
        "- Tomatoes\n",
        "```\n",
        "\n"
      ]
    },
    {
      "cell_type": "markdown",
      "metadata": {
        "id": "ysg8w0tsJRIt"
      },
      "source": [
        "- Flour\n",
        "- Cheese\n",
        "- Tomatoes"
      ]
    },
    {
      "cell_type": "markdown",
      "metadata": {
        "id": "AeekK3UWJSax"
      },
      "source": [
        "```\n",
        "<ul>\n",
        "<li>Flour</li>\n",
        "<li>Cheese</li>\n",
        "<li>Tomatoes</li>\n",
        "</ul>\n",
        "```\n",
        "\n"
      ]
    },
    {
      "cell_type": "markdown",
      "metadata": {
        "id": "Xj9QJ8ZNJqGY"
      },
      "source": [
        "<ul>\n",
        "<li>Flour</li>\n",
        "<li>Cheese</li>\n",
        "<li>Tomatoes</li>\n",
        "</ul>"
      ]
    },
    {
      "cell_type": "markdown",
      "metadata": {
        "id": "X0XoW8zUKBFo"
      },
      "source": [
        "```\n",
        "Four steps to better sleep:\n",
        "1. Stick to a sleep schedule\n",
        "2. Create a bedtime ritual\n",
        "3. Get comfortable\n",
        "4. Manage stress\n",
        "```\n",
        "\n"
      ]
    },
    {
      "cell_type": "markdown",
      "metadata": {
        "id": "hQj6LpL8KKeB"
      },
      "source": [
        "Four steps to better sleep:\n",
        "1. Stick to a sleep schedule\n",
        "2. Create a bedtime ritual\n",
        "3. Get comfortable\n",
        "4. Manage stress"
      ]
    },
    {
      "cell_type": "markdown",
      "metadata": {
        "id": "KSHKGcIDKMl1"
      },
      "source": [
        "\n",
        "```\n",
        "<p>Four steps to better sleep:</p>\n",
        "<ol>\n",
        "<li>Stick to a sleep schedule</li>\n",
        "<li>Create a bedtime ritual</li>\n",
        "<li>Get comfortable</li>\n",
        "<li>Manage stress</li>\n",
        "</ol>\n",
        "```\n",
        "\n"
      ]
    },
    {
      "cell_type": "markdown",
      "metadata": {
        "id": "UsyFv6nBKsE-"
      },
      "source": [
        "\n",
        "<p>Four steps to better sleep:</p>\n",
        "<ol>\n",
        "<li>Stick to a sleep schedule</li>\n",
        "<li>Create a bedtime ritual</li>\n",
        "<li>Get comfortable</li>\n",
        "<li>Manage stress</li>\n",
        "</ol>"
      ]
    },
    {
      "cell_type": "markdown",
      "metadata": {
        "id": "2-S2MkdbKukv"
      },
      "source": [
        "```\n",
        "1986\\. What a great season. Arguably the finest season in the history of the franchise.\n",
        "```\n",
        "\n"
      ]
    },
    {
      "cell_type": "markdown",
      "metadata": {
        "id": "0wYoUd2fK8Pj"
      },
      "source": [
        "1986\\. What a great season. Arguably the finest season in the history of the franchise."
      ]
    },
    {
      "cell_type": "markdown",
      "metadata": {
        "id": "p-zoYyDuLCfC"
      },
      "source": [
        "\n",
        "```\n",
        "<ol start=\"1986\">\n",
        "<li>What a great season. Arguably the finest season in the history of the franchise.</li>\n",
        "</ol>\n",
        "```\n",
        "\n"
      ]
    },
    {
      "cell_type": "markdown",
      "metadata": {
        "id": "x4H6IcUrLb_D"
      },
      "source": [
        "<ol start=\"1986\">\n",
        "<li>What a great season. Arguably the finest season in the history of the franchise.</li>\n",
        "</ol>"
      ]
    },
    {
      "cell_type": "markdown",
      "metadata": {
        "id": "Art8bgmSLk3e"
      },
      "source": [
        "## [Links](https://commonmark.org/help/tutorial/07-links.html)"
      ]
    },
    {
      "cell_type": "markdown",
      "metadata": {
        "id": "yHKPJHKaeJXA"
      },
      "source": [
        "\n",
        "```\n",
        "You can do anything at <https://html5zombo.com>\n",
        "```\n",
        "\n"
      ]
    },
    {
      "cell_type": "markdown",
      "metadata": {
        "id": "2z-wmXWlfOBm"
      },
      "source": [
        "You can do anything at <https://html5zombo.com>"
      ]
    },
    {
      "cell_type": "markdown",
      "metadata": {
        "id": "-bramVb7fWQ5"
      },
      "source": [
        "```\n",
        "<p>You can do anything at <a href=\"https://html5zombo.com\">https://html5zombo.com</a></p>\n",
        "```\n",
        "\n"
      ]
    },
    {
      "cell_type": "markdown",
      "metadata": {
        "id": "qRTobDtWfiZB"
      },
      "source": [
        "<p>You can do anything at <a href=\"https://html5zombo.com\">https://html5zombo.com</a></p>"
      ]
    },
    {
      "cell_type": "markdown",
      "metadata": {
        "id": "UhxVasY3fj3X"
      },
      "source": [
        "```\n",
        "The [University of Rwanda](http://www.ur.ac.rw) was formed in 2013 through the merger of Rwanda’s seven public institutions of higher education.\n",
        "```\n",
        "\n"
      ]
    },
    {
      "cell_type": "markdown",
      "metadata": {
        "id": "mxNv_uimf8j3"
      },
      "source": [
        "The [University of Rwanda](http://www.ur.ac.rw) was formed in 2013 through the merger of Rwanda’s seven public institutions of higher education."
      ]
    },
    {
      "cell_type": "markdown",
      "metadata": {
        "id": "G_UoyN5qf_Tu"
      },
      "source": [
        "```\n",
        "<p>The <a href=\"http://www.ur.ac.rw\">University of Rwanda</a> was formed in 2013 through the merger of Rwanda’s seven public institutions of higher education.</p>\n",
        "```\n",
        "\n"
      ]
    },
    {
      "cell_type": "markdown",
      "metadata": {
        "id": "TCRRs05ggTRz"
      },
      "source": [
        "<p>The <a href=\"http://www.ur.ac.rw\">University of Rwanda</a> was formed in 2013 through the merger of Rwanda’s seven public institutions of higher education.</p>"
      ]
    },
    {
      "cell_type": "markdown",
      "metadata": {
        "id": "m_5QBcVzgUnU"
      },
      "source": [
        "```\n",
        "[Hurricane][1] Erika was the strongest and longest-lasting tropical cyclone in the 1997 Atlantic [hurricane][1] season.\n",
        "\n",
        "[1]:https://w.wiki/qYn\n",
        "```\n",
        "\n"
      ]
    },
    {
      "cell_type": "markdown",
      "metadata": {
        "id": "n8M5RNyOgm_J"
      },
      "source": [
        "[Hurricane][1] Erika was the strongest and longest-lasting tropical cyclone in the 1997 Atlantic [hurricane][1] season.\n",
        "\n",
        "[1]:https://w.wiki/qYn"
      ]
    },
    {
      "cell_type": "markdown",
      "metadata": {
        "id": "BFUt7J52gxp9"
      },
      "source": [
        "```\n",
        "<p><a href=\"https://w.wiki/qYn\">Hurricane</a> Erika was the strongest and longest-lasting tropical cyclone in the 1997 Atlantic <a href=\"https://w.wiki/qYn\">hurricane</a> season.</p>\n",
        "```\n",
        "\n"
      ]
    },
    {
      "cell_type": "markdown",
      "metadata": {
        "id": "bVPTFyDwg8Kv"
      },
      "source": [
        "<p><a href=\"https://w.wiki/qYn\">Hurricane</a> Erika was the strongest and longest-lasting tropical cyclone in the 1997 Atlantic <a href=\"https://w.wiki/qYn\">hurricane</a> season.</p>"
      ]
    },
    {
      "cell_type": "markdown",
      "metadata": {
        "id": "GZN6TIvchMUT"
      },
      "source": [
        "##  [Images](https://commonmark.org/help/tutorial/08-images.html)"
      ]
    },
    {
      "cell_type": "markdown",
      "metadata": {
        "id": "jlQOXk2UhyAb"
      },
      "source": [
        "```\n",
        "![](https://commonmark.org/help/images/favicon.png)\n",
        "```\n",
        "\n"
      ]
    },
    {
      "cell_type": "markdown",
      "metadata": {
        "id": "brquKmoCiHjk"
      },
      "source": [
        "![](https://commonmark.org/help/images/favicon.png)"
      ]
    },
    {
      "cell_type": "markdown",
      "metadata": {
        "id": "Xi4fjd3BiIvJ"
      },
      "source": [
        "```\n",
        "<p><img src=\"https://commonmark.org/help/images/favicon.png\" alt=\"\"></p>\n",
        "```\n",
        "\n"
      ]
    },
    {
      "cell_type": "markdown",
      "metadata": {
        "id": "DRmwIepghdFD"
      },
      "source": [
        "\n",
        "https://commonmark.org/help/images/favicon.png\n",
        "<p><img src=\"https://commonmark.org/help/images/favicon.png\" alt=\"\"></p>"
      ]
    },
    {
      "cell_type": "markdown",
      "metadata": {
        "id": "PTQpncTligQd"
      },
      "source": [
        "```\n",
        "![Logo][1]\n",
        "\n",
        "[1]: https://commonmark.org/help/images/favicon.png \"Creative Commons licensed\"\n",
        "```\n",
        "\n"
      ]
    },
    {
      "cell_type": "markdown",
      "metadata": {
        "id": "q1QTIGMljsIR"
      },
      "source": [
        "![Logo][1]\n",
        "\n",
        "[1]: https://commonmark.org/help/images/favicon.png \"Creative Commons licensed\""
      ]
    },
    {
      "cell_type": "markdown",
      "metadata": {
        "id": "RI9mszB9j3GX"
      },
      "source": [
        "```\n",
        "<p><img src=\"https://commonmark.org/help/images/favicon.png\" alt=\"Logo\" title=\"Creative Commons licensed\"></p>\n",
        "```\n",
        "\n"
      ]
    },
    {
      "cell_type": "markdown",
      "metadata": {
        "id": "XiUYF6RzkIgv"
      },
      "source": [
        "<p><img src=\"https://commonmark.org/help/images/favicon.png\" alt=\"Logo\" title=\"Creative Commons licensed\"></p>"
      ]
    },
    {
      "cell_type": "markdown",
      "metadata": {
        "id": "j_7PjMjakNR9"
      },
      "source": [
        "##  [Code](https://commonmark.org/help/tutorial/09-code.html)"
      ]
    },
    {
      "cell_type": "markdown",
      "metadata": {
        "id": "0Jj3lp2wlCtq"
      },
      "source": [
        "```\n",
        "When `x = 3`, that means `x + 2 = 5`\n",
        "```\n",
        "\n"
      ]
    },
    {
      "cell_type": "markdown",
      "metadata": {
        "id": "mVPkLHuylN62"
      },
      "source": [
        "When `x = 3`, that means `x + 2 = 5`"
      ]
    },
    {
      "cell_type": "markdown",
      "metadata": {
        "id": "A-qvdJm9lPA8"
      },
      "source": [
        "```\n",
        "<p>When <code>x = 3</code>, that means <code>x + 2 = 5</code></p>\n",
        "```\n",
        "\n"
      ]
    },
    {
      "cell_type": "markdown",
      "metadata": {
        "id": "CDK_5yA7lp2Q"
      },
      "source": [
        "<p>When <code>x = 3</code>, that means <code>x + 2 = 5</code></p>"
      ]
    },
    {
      "cell_type": "markdown",
      "metadata": {
        "id": "aa2gcDQmlp-N"
      },
      "source": [
        "```\n",
        "Who ate the most donuts this week?\n",
        "\n",
        "    Jeff  15\n",
        "    Sam   11\n",
        "    Robin  6\n",
        "```\n",
        "\n"
      ]
    },
    {
      "cell_type": "markdown",
      "metadata": {
        "id": "LuyiHy5KmN4e"
      },
      "source": [
        "Who ate the most donuts this week?\n",
        "\n",
        "    Jeff  15\n",
        "    Sam   11\n",
        "    Robin  6"
      ]
    },
    {
      "cell_type": "markdown",
      "metadata": {
        "id": "eSvi3flwmZMM"
      },
      "source": [
        "\n",
        "```\n",
        "<p>Who ate the most donuts this week?</p>\n",
        "<pre><code>Jeff 15\n",
        "Sam 11\n",
        "Robin 6</code></pre>\n",
        "```\n",
        "\n"
      ]
    },
    {
      "cell_type": "markdown",
      "metadata": {
        "id": "xXAZov8omPSF"
      },
      "source": [
        "<p>Who ate the most donuts this week?</p>\n",
        "<pre><code>Jeff 15\n",
        "Sam 11\n",
        "Robin 6</code></pre>"
      ]
    },
    {
      "cell_type": "markdown",
      "metadata": {
        "id": "m1TBVjQQoZC3"
      },
      "source": [
        "````\n",
        "A loop in JavaScript:\n",
        "```\n",
        "var i;\n",
        "for (i=0; i<5; i++) {\n",
        "  console.log(i);\n",
        "}\n",
        "```\n",
        "What numbers will this print?\n",
        "````\n",
        "\n"
      ]
    },
    {
      "cell_type": "markdown",
      "metadata": {
        "id": "oAsHwOYNo2OY"
      },
      "source": [
        "A loop in JavaScript:\n",
        "```\n",
        "var i;\n",
        "for (i=0; i<5; i++) {\n",
        "  console.log(i);\n",
        "}\n",
        "```\n",
        "What numbers will this print?"
      ]
    },
    {
      "cell_type": "markdown",
      "metadata": {
        "id": "HOlOsV6Jo64I"
      },
      "source": [
        "````\n",
        "<p> A loop in JavaScript:</p>\n",
        "<pre><code> \n",
        "var i;\n",
        "for (i=0; i&lt;5; i++) {\n",
        "    console.log(i);\n",
        "}\n",
        "</code></pre>\n",
        "<p>What numbers will this print?</p>\n",
        "\n",
        "````\n",
        "\n"
      ]
    },
    {
      "cell_type": "markdown",
      "metadata": {
        "id": "HW7az16hpaU2"
      },
      "source": [
        "\n",
        "<p>A loop in JavaScript:</p>\n",
        "<pre>var i;\n",
        "for (i=0; i&lt;5; i++) {\n",
        "   console.log(i);\n",
        "}\n",
        "</pre>\n",
        "<p>What numbers will this print?</p>"
      ]
    },
    {
      "cell_type": "markdown",
      "metadata": {
        "id": "OCELkXuBpb0b"
      },
      "source": [
        "## [Nested Lists](https://commonmark.org/help/tutorial/10-nestedLists.html)"
      ]
    },
    {
      "cell_type": "markdown",
      "metadata": {
        "id": "_wiA-zFspvpT"
      },
      "source": [
        "```\n",
        "* Fruit\n",
        "  * Apple\n",
        "  * Orange\n",
        "  * Banana\n",
        "* Dairy\n",
        "  * Milk\n",
        "  * Cheese\n",
        "```\n",
        "\n"
      ]
    },
    {
      "cell_type": "markdown",
      "metadata": {
        "id": "Wv3oDjeCp49t"
      },
      "source": [
        "* Fruit\n",
        "  * Apple\n",
        "  * Orange\n",
        "  * Banana\n",
        "* Dairy\n",
        "  * Milk\n",
        "  * Cheese"
      ]
    },
    {
      "cell_type": "markdown",
      "metadata": {
        "id": "JpcozcfUp6Qr"
      },
      "source": [
        "\n",
        "```\n",
        "<ul>\n",
        "<li>Fruit\n",
        "<ul>\n",
        "<li>Apple</li>\n",
        "<li>Orange</li>\n",
        "<li>Banana</li>\n",
        "</ul>\n",
        "</li>\n",
        "<li>Dairy\n",
        "<ul>\n",
        "<li>Milk</li>\n",
        "<li>Cheese</li>\n",
        "</ul>\n",
        "</li>\n",
        "</ul>\n",
        "```\n",
        "\n"
      ]
    },
    {
      "cell_type": "markdown",
      "metadata": {
        "id": "7nfJ-PDNqMyq"
      },
      "source": [
        "\t\t\n",
        "<ul>\n",
        "<li>Fruit\n",
        "<ul>\n",
        "<li>Apple</li>\n",
        "<li>Orange</li>\n",
        "<li>Banana</li>\n",
        "</ul>\n",
        "</li>\n",
        "<li>Dairy\n",
        "<ul>\n",
        "<li>Milk</li>\n",
        "<li>Cheese</li>\n",
        "</ul>\n",
        "</li>\n",
        "</ul>"
      ]
    },
    {
      "cell_type": "markdown",
      "metadata": {
        "id": "pa4WsrmEp6gG"
      },
      "source": [
        "```\n",
        "+ World Cup 2014\n",
        "  1. Germany\n",
        "  2. Argentina\n",
        "  3. Netherlands\n",
        "+ Rugby World Cup 2015\n",
        "  1. New Zealand\n",
        "  2. Australia\n",
        "  3. South Africa\n",
        "```\n",
        "\n"
      ]
    },
    {
      "cell_type": "markdown",
      "metadata": {
        "id": "3mHk4C5Zqx9J"
      },
      "source": [
        "+ World Cup 2014\n",
        "  1. Germany\n",
        "  2. Argentina\n",
        "  3. Netherlands\n",
        "+ Rugby World Cup 2015\n",
        "  1. New Zealand\n",
        "  2. Australia\n",
        "  3. South Africa"
      ]
    },
    {
      "cell_type": "markdown",
      "metadata": {
        "id": "3BDmYwn2qz2-"
      },
      "source": [
        "```\n",
        "<ul>\n",
        "<li>World Cup 2014\n",
        "<ol>\n",
        "<li>Germany</li>\n",
        "<li>Argentina</li>\n",
        "<li>Netherlands</li>\n",
        "</ol>\n",
        "</li>\n",
        "<li>Rugby World Cup 2015\n",
        "<ol>\n",
        "<li>New Zealand</li>\n",
        "<li>Australia</li>\n",
        "<li>South Africa</li>\n",
        "</ol>\n",
        "</li>\n",
        "</ul>\n",
        "```\n",
        "\n",
        "\n",
        "\n"
      ]
    },
    {
      "cell_type": "markdown",
      "metadata": {
        "id": "23GgtIzbrDAi"
      },
      "source": [
        "<ul>\n",
        "<li>World Cup 2014\n",
        "<ol>\n",
        "<li>Germany</li>\n",
        "<li>Argentina</li>\n",
        "<li>Netherlands</li>\n",
        "</ol>\n",
        "</li>\n",
        "<li>Rugby World Cup 2015\n",
        "<ol>\n",
        "<li>New Zealand</li>\n",
        "<li>Australia</li>\n",
        "<li>South Africa</li>\n",
        "</ol>\n",
        "</li>\n",
        "</ul>"
      ]
    },
    {
      "cell_type": "markdown",
      "metadata": {
        "id": "5rMcLxSKrLNq"
      },
      "source": [
        "```\n",
        "1. Ingredients\n",
        "\n",
        "    - spaghetti\n",
        "    - marinara sauce\n",
        "    - salt\n",
        "\n",
        "2. Cooking\n",
        "\n",
        "   Bring water to boil, add a pinch of salt and spaghetti. Cook until pasta is **tender**.\n",
        "\n",
        "3. Serve\n",
        "\n",
        "   Drain the pasta on a plate. Add heated sauce. \n",
        "\n",
        "   > No man is lonely eating spaghetti; it requires so much attention.\n",
        "\n",
        "   Bon appetit!\n",
        "```\n",
        "\n"
      ]
    },
    {
      "cell_type": "markdown",
      "metadata": {
        "id": "dcq7as1XrUft"
      },
      "source": [
        "1. Ingredients\n",
        "\n",
        "    - spaghetti\n",
        "    - marinara sauce\n",
        "    - salt\n",
        "\n",
        "2. Cooking\n",
        "\n",
        "   Bring water to boil, add a pinch of salt and spaghetti. Cook until pasta is **tender**.\n",
        "\n",
        "3. Serve\n",
        "\n",
        "   Drain the pasta on a plate. Add heated sauce. \n",
        "\n",
        "   > No man is lonely eating spaghetti; it requires so much attention.\n",
        "\n",
        "   Bon appetit!"
      ]
    },
    {
      "cell_type": "markdown",
      "metadata": {
        "id": "e3ujVS0nrWLf"
      },
      "source": [
        "```\n",
        "<ol>\n",
        "<li>\n",
        "<p>Ingredients</p>\n",
        "<ul>\n",
        "<li>spaghetti</li>\n",
        "<li>marinara sauce</li>\n",
        "<li>salt</li>\n",
        "</ul>\n",
        "</li>\n",
        "<li>\n",
        "<p>Cooking</p>\n",
        "<p>Bring water to boil, add a pinch of salt and spaghetti. Cook until pasta is <strong>tender</strong>.</p>\n",
        "</li>\n",
        "<li>\n",
        "<p>Serve</p>\n",
        "<p>Drain the pasta on a plate. Add heated sauce.</p>\n",
        "<blockquote>\n",
        "<p>No man is lonely eating spaghetti; it requires so much attention.</p>\n",
        "</blockquote>\n",
        "<p>Bon appetit!</p>\n",
        "</li>\n",
        "</ol>\n",
        " \n",
        "\n",
        "\n",
        "```\n",
        "\n"
      ]
    },
    {
      "cell_type": "markdown",
      "metadata": {
        "id": "mwK70vV3riEy"
      },
      "source": [
        "<ol>\n",
        "<li>\n",
        "<p>Ingredients</p>\n",
        "<ul>\n",
        "<li>spaghetti</li>\n",
        "<li>marinara sauce</li>\n",
        "<li>salt</li>\n",
        "</ul>\n",
        "</li>\n",
        "<li>\n",
        "<p>Cooking</p>\n",
        "<p>Bring water to boil, add a pinch of salt and spaghetti. Cook until pasta is <strong>tender</strong>.</p>\n",
        "</li>\n",
        "<li>\n",
        "<p>Serve</p>\n",
        "<p>Drain the pasta on a plate. Add heated sauce.</p>\n",
        "<blockquote>\n",
        "<p>No man is lonely eating spaghetti; it requires so much attention.</p>\n",
        "</blockquote>\n",
        "<p>Bon appetit!</p>\n",
        "</li>\n",
        "</ol>\n",
        " \n",
        "\n"
      ]
    },
    {
      "cell_type": "markdown",
      "source": [
        "\n",
        "\n",
        "---\n",
        "\n"
      ],
      "metadata": {
        "id": "GIPlrfCTLSW3"
      }
    },
    {
      "cell_type": "markdown",
      "source": [
        "# **4) LaTeX**"
      ],
      "metadata": {
        "id": "hRi4oP6NLYt5"
      }
    },
    {
      "cell_type": "markdown",
      "source": [
        "## [Algebra liniowa. Lista nr 1. Logika, rachunek zdań.](http://bioinf-mw.bihz.upwr.edu.pl/resources/chalfen/logika1.pdf)"
      ],
      "metadata": {
        "id": "5PNPy7pnNu7O"
      }
    },
    {
      "cell_type": "markdown",
      "source": [
        "\\\\\n",
        "<!doctype html>\n",
        " <html>\n",
        "\n",
        "  <h3><center><b>BioInformatyka. Lista nr 1. Logika, rachunek zdań.</b>\n",
        "  </center></h3>\n",
        "  \n",
        " \\\n",
        "<body>\n",
        "\n",
        "\n",
        "\n",
        "\n",
        "<p>Zad.1. Udowodnij, korzystając z metody 0-1, że zdanie</p>\n",
        "\n",
        "\n",
        "$$\\left( p\\implies q \\land r\\big) \\big(  p \\implies  q\\right)$$\n",
        "<ul type=\"none\">\n",
        "<li>jest tautologią</li>\n",
        "</ul> \n",
        "\n",
        "\\\n",
        "<p style=\"text-align: left\">Zad.2. Metodą 0-1 udowodnij,</p>\n",
        "<ul type=\"none\">\n",
        "<li>\n",
        "a) prawo rozdzielności koniunkcji względem alternatywy\n",
        "\n",
        "b) prawa de Morgana\n",
        "\n",
        "c) prawo kontrapozycji\n",
        "</li>\n",
        "</ul>\n",
        "\n",
        "\n",
        "\\\n",
        "<p>Zad.3. Sprawdź, które z poniższych zdań są tautologiami:</p>\n",
        "\n",
        "$$\\left(p\\implies q) \\implies (\\neg p \\implies \\neg q\\right)$$\n",
        "$$\\left(p\\implies q) \\implies (\\neg q \\implies \\neg p\\right)$$\n",
        "$$\\left.  p \\land (q \\implies r) \\implies (p \\land q\\implies  r\\right)$$\n",
        "$$\\left(p \\lor q \\implies r) \\implies (p \\implies  r) \\lor (q \\implies r \\right)$$\n",
        "$$\\left(p\\implies q) \\land (q \\implies  r) \\implies (p \\implies r\\right)$$\n",
        "$$\\left(p\\implies q \\land r) \\implies (p \\implies  q) \\land (p \\implies r \\right)$$\n",
        "$$\\left(\\ ((p \\land q) \\implies r) \\land ((p \\lor  q) \\implies \\neg r)) \\implies (p \\land q \\land r\\right)$$\n",
        "\n",
        "\n",
        "\\\n",
        "<p>Zad.4. Poniższe wyrażenia zapisz w symbolice logicznej używając kwantyfikatorów:</p>\n",
        "<ul type=\"none\">\n",
        "<li>\n",
        "a) w zbiorze liczb rzeczywistych nie ma liczby największej\n",
        "\n",
        "b) x jest liczbą parzystą\n",
        "\n",
        "c) każda liczba x jest sumą kwadratów dwóch liczb\n",
        "\n",
        "d) w zbiorze liczb naturalnych istnieje liczba najmniejsza\n",
        "\n",
        "e) ciąg $\\{a_{n}\\}$  jest rosnący, niemalejący, ograniczony z góry\n",
        "\n",
        "f) ciąg $\\{a_{n}\\}$ ma skończoną granicę\n",
        "\n",
        "g) ciąg $\\{a_{n}\\}$ ma nieskończoną granicę\n",
        "</li>\n",
        "</ul>\n",
        "\n",
        "\\\n",
        "<p>Zad.5. Napisz prawa de Morgana dla rachunku kwantyfikatorów.</p>\n",
        "<ul type=\"none\">\n",
        "<li>Podaj przykłady zastosowania tych praw.</li>\n",
        "</ul>\n",
        "\n",
        "\\\n",
        "<p>Zad.6. Czy zachodzi rozdzielność kwantyfikatora ogólnego względem alternatywy?\n",
        "<ul type=\"none\">\n",
        "<li>\n",
        "Jeśli uważasz, że „nie”, to podaj przykład. Zapisz ten fakt w symbolice logicznej.\n",
        "</li>\n",
        "</ul>\n",
        "\n",
        " \\\n",
        "<p>Zad.7. Czy zachodzi rozdzielność kwantyfikatora szczegółowego względem koniunkcji?</p>\n",
        "<ul type=\"none\"> \n",
        "<li>Jeśli uważasz, że „nie”, to podaj przykład. Zapisz ten fakt w symbolice logicznej.\n",
        "</li>\n",
        "</ul>\n",
        "\n",
        "\\\n",
        "<p>Zad.8. Oceń prawdziwość zdań otrzymanych z formuł zdaniowych</p>\n",
        "$$\\bigwedge_{y} \\bigvee_{x} p(𝑥, 𝑦) \\qquad  \\bigvee_{x} \\bigwedge_{y} 𝑝(𝑥, 𝑦) \\qquad jeżeli$$\n",
        "\n",
        "<ul type=\"none\">\n",
        "<li>\n",
        "a) x, y $\\in$  $\\mathbb R$, p(x,y) oznacza, że $ y^{2}=x $\n",
        "\n",
        "b) x, y $\\in$ $\\mathbb R$, p(x,y) oznacza, że $ y^{2}>x $\n",
        "\n",
        "c) x,y oznacza osobę, p(x,y) oznacza, że x jest rodzicem y.\n",
        "</li>\n",
        "</ul>\n",
        "\n",
        "\n",
        "\\\n",
        "<p>Zad.9. Ustal wartość logiczną poniższych zdań:</p>\n",
        "\n",
        "<ul type=\"none\">\n",
        "<li>\n",
        "a) $\\bigwedge_{n \\in \\mathbb N}\\left( n^2 - n \\geq 0 \\right)$\n",
        "\n",
        "b) $\\bigwedge_{n \\in \\mathbb N}\\left|\\frac{n+1}{n}-1 \\right|$\n",
        "\n",
        "c) $\\bigwedge_{x \\in \\mathbb R }\\left( \\ (x < −1 ∨ x > 2) \\implies x^2 − x − 2 > 0  \\right)$\n",
        "</li>\n",
        "</ul>\n",
        "</body>\n",
        "</html>\n",
        "\n",
        "\\\\"
      ],
      "metadata": {
        "id": "fL-JYUsvFTrd"
      }
    },
    {
      "cell_type": "markdown",
      "source": [
        "## [Algebra liniowa. Lista nr 2. Zbiory](http://bioinf-mw.bihz.upwr.edu.pl/resources/chalfen/logika2.pdf)\n",
        "\n",
        "\n"
      ],
      "metadata": {
        "id": "xWlwRo9AmsLa"
      }
    },
    {
      "cell_type": "markdown",
      "source": [
        "\\\\\n",
        "<html>\n",
        "<h3><center><b>BioInfo. Lista nr 2. Zbiory</b></center></h3>\n",
        "<body>\n",
        "\n",
        "\\\n",
        "<p>Zad.1. Dane są zbiory:\n",
        "\n",
        "$$𝐴 = \\left\\{𝑥: |2𝑥 + 3| < 3 \\right\\}$$ \n",
        "$$𝐵 = \\left\\{𝑥: 𝑥^2 − 4 \\leqslant 0\\right\\}$$\n",
        "$$𝐶 = \\left\\{𝑥: |𝑥 + 1| − |𝑥 − 3| < 2\\right\\}$$\n",
        "\n",
        "Zapisz zbiory 𝐴, 𝐵, 𝐶, $$𝐴 \\cup 𝐵, 𝐵 \\cap 𝐶$$ w postaci sumy przedziałów.\n",
        "</p>\n",
        "\n",
        "\\\n",
        "<p>Zad.2. Udowodnij prawa de Morgana dla rachunku zbiorów.</p>\n",
        "\n",
        "\\\n",
        "<p>Zad.3. Ud, że dla dowolnych zbiorów A, B, C zachodzą równości :</p>\n",
        "$$𝐴 \\cap \\left(𝐵 − 𝐶\\right) = \\left(𝐴 \\cap 𝐵\\right) − 𝐶$$\n",
        "$$\\left(𝐴 \\cup 𝐵\\right) − 𝐶 = \\left(𝐴 − 𝐶\\right) \\cup \\left(𝐵 − 𝐶\\right)$$\n",
        "$$A - \\left( B \\cup C \\right)=\\left(A-B\\right)-C$$\n",
        "\n",
        "\\\n",
        "<p>Zad.4. Wypisz wszystkie podzbiory zbioru {a, b, c, d}. Ile jest podzbiorów 2-u\n",
        "elementowych, ile 3 elementowych? Ile jest wszystkich podzbiorów? Podaj ogólny wzór na\n",
        "liczbę m-elementowych podzbiorów zbioru n-elementowego.</p>\n",
        "\n",
        "\\\n",
        "<p>Zad.5. Napisz wszystkie ciągi 3-elementowe, w kolejności rosnącej, złożone z cyfr 0 lub 1.</p>\n",
        "\n",
        "\\\n",
        "<p>Zad.6. Podaj przykład 3 zbiorów, z których każde dwa mają niepustą część wspólną, a część\n",
        "wspólna wszystkich trzech jest pusta. To samo dla 4-ch zbiorów, 5-ciu, itd.</p>\n",
        "\n",
        "\\\n",
        "<p>Zad.7. Zaznaczyć na płaszczyźnie XY zbiory:</p>\n",
        "$$< −3, + \\infty )\\times (- \\infty, 1)$$\n",
        "$$< −2, 3 > \\times \\ \\mathbb R $$\n",
        "$$\\mathbb N × \\mathbb N, \\quad \\mathbb N \\ – \\textsf{zbior liczb naturalnych}$$\n",
        "$$\\left\\{1,2 \\right\\} \\times \\left\\{1,2\\right\\}$$\n",
        "$$[1,2] \\times (1,2)$$\n",
        "$$\\mathbb R \\times \\left\\{1\\right\\}$$\n",
        "\n",
        "\\\n",
        "<p>Zad.8. Niech $$A=\\left\\{0,1\\right\\}, B=\\left\\{a, b\\right\\}, C=\\left\\{+,–\\right\\}.$$ \n",
        "\n",
        "\\\n",
        "Utwórz zbiór $A \\times C \\times B$</p>\n",
        "\n",
        "\\\n",
        "<p>Zad.9. Ud, że:</p>\n",
        "\n",
        "$$(𝐴 \\cup 𝐵) \\times 𝐶 = (𝐴 \\times 𝐶) \\cup (𝐵 \\times 𝐶)$$\n",
        "$$(𝐴 \\cap 𝐵) \\times 𝐶 = (𝐴 \\times 𝐶) \\cap (𝐵 \\times 𝐶)$$\n",
        "\n",
        "</body>\n",
        "</html>\n",
        "\n",
        "\n",
        "\n",
        "\\\\"
      ],
      "metadata": {
        "id": "0qmMjDnhQ0sI"
      }
    },
    {
      "cell_type": "markdown",
      "source": [
        "## [Analiza matematyczna. Lista nr 1. Funkcje.](http://karnet.up.wroc.pl/~mch/BioInfo1.pdf)"
      ],
      "metadata": {
        "id": "EAUe_WyMSVAn"
      }
    },
    {
      "cell_type": "markdown",
      "source": [
        "\\\\\n",
        "<html>\n",
        "\n",
        "<body>\n",
        "\n",
        "<h3><center><b>BioInformatyka. Analiza matematyczna. Lista nr 1. Funkcje.</b></center></h3>\n",
        "\n",
        "\\\n",
        "<p>Zad.1. Wyznacz dziedzinę funkcji:</p>\n",
        "\n",
        "\\\n",
        "$$f(x)=\\sqrt{x-3}+\\sqrt{5-x}, \\quad g(x)=\\sqrt{\\frac{x+1}{x}}, \\quad h(x)=\\displaystyle \\frac{2x+5}{x^{2}+x-6}, \\quad k(x)=\\ln(-x^{2}+2x+3)$$ \n",
        "\n",
        "\\\n",
        "<p>Zad.2. Ud., że funkcja $f(x)=x^{3}$ jest rosnąca, a funkcja $f(x)=\\frac{1}{x}$ jest malejąca dla $\\mathrm{x}>0.$</p>\n",
        "\n",
        "\\\n",
        "<p>Zad.3. Oblicz:</p> \n",
        "\n",
        "\n",
        "$$49^{\\log_{7}2}, \\ 16^{\\log_{2}3}$$\n",
        "\n",
        "\\\n",
        "<p>Zad.4. Rozwiąż równania:</p> \n",
        "\n",
        "$$49-6\\cdot 7^{x}+5=0,$$\n",
        "$$3^{5x-8}=9^{x-3},$$\n",
        "$$\\log_{4}[\\log_{3}(\\log_{2}\\mathrm{x})]=0,$$\n",
        "$$\\log_{(\\mathrm{x}- 2)}9=2,$$ \n",
        "$$2\\mathrm{logx}+\\log(6-\\mathrm{x}^{2})=0$$\n",
        "\n",
        "\\\n",
        "<p>Zad.5. Rozwiąż nierówności:</p> \n",
        "\n",
        "$$3^{x}\\geq 27, \\quad \\left(\\frac{1}{3}\\right)^{x}<9, \\quad 3^{\\frac{x-3}{3x-2}}<\\frac{1}{3},$$ \\\n",
        "$$\\log_{3}(\\mathrm{x}^{2}+2)>3,\\quad |3-\\log_{2}\\mathrm{x}|<1,$$ \\\n",
        "$$\\log_{2}(\\mathrm{x}+14)+\\log_{2}(\\mathrm{x}+2)\\geq 6$$\n",
        "\n",
        "\n",
        "\\\n",
        "<p>Zad.6. Naszkicuj wykres funkcji:</p>\n",
        "\n",
        "$$f(x)=-2(x+3)^{2}+1, \\quad g(x)=\\left|3 \\sin(\\frac{1}{2}x)\\right|, \\quad \n",
        "h(x)=\\sqrt{|x-1|} \\quad k(x)=|\\ln(x+1)|-2 \\quad l(x)=|\\cosh(2x)-2|, \\quad m(x)=\\left|arctg(-x)-\\frac{\\pi}{2}\\right|, \\quad p(x)=e^{-x}, \\quad r(x)=\\left[\\frac{1}{2}x \\right], \\quad s(x)=x-[x]$$\n",
        "\n",
        "\\\n",
        "<p>Zad.7. Zbadaj parzystość $\\mathrm{i}$ nieparzystość funkcji hiperbolicznych $\\mathrm{i}$ cyklometrycznych.</p>\n",
        "\n",
        "\\\n",
        "<p>Zad.8. Udowodnij, że dla każdego $\\mathrm{x}:$</p> \n",
        "\n",
        "$$|\\mathrm{tgh}(\\mathrm{x})|<1,\\quad |ctgh(x)| >1, \\quad \\cosh^{2}(\\mathrm{x})-\\sinh^{2}(\\mathrm{x})=1$$\n",
        "\n",
        "\\\n",
        "<p>Zad.9. Znajdź funkcję odwrotną do funkcji:</p> \n",
        "\n",
        "$$\\mathrm{y}(\\mathrm{x})=(\\mathrm{ax}+\\mathrm{b}) / (\\mathrm{cx}+\\mathrm{d})$$ \n",
        "\n",
        "\\\n",
        "<p>Zad. 10. Naszkicuj wykresy funkcji odwrotnych do $tgh$, $sinh$, $cosh$.\n",
        "</p> \n",
        "\n",
        "\\\n",
        "<p>Zad. 11. Naszkicuj wykres funkcji opisanej wzorem parametrycznym:</p>\n",
        "\n",
        "\\\n",
        "$$\n",
        "\\\n",
        "  \\begin{cases}\n",
        "    x(t)=2t-t^{2}\\quad\\quad t\\in[-1,3] \\\\  \n",
        "    y(t)=2t^{2}-t^{3} \n",
        "  \\end{cases}\n",
        "\\\n",
        "$$\n",
        "\n",
        "</body>\n",
        "</html>\n",
        "\n",
        "\n",
        "\\\\"
      ],
      "metadata": {
        "id": "xO8134mCUaVR"
      }
    },
    {
      "cell_type": "markdown",
      "source": [
        "## [Analiza matematyczna. Lista zadań nr 2: ciągi, ciąg arytmetyczny, ciąg geometryczny](http://karnet.up.wroc.pl/~mch/BioInfo2.pdf)"
      ],
      "metadata": {
        "id": "gpaI9uRDXnoP"
      }
    },
    {
      "cell_type": "markdown",
      "source": [
        ""
      ],
      "metadata": {
        "id": "nFdt6BhBYROG"
      }
    },
    {
      "cell_type": "markdown",
      "source": [
        "\n",
        "---\n",
        "\n"
      ],
      "metadata": {
        "id": "oKXK8pRdPeRF"
      }
    },
    {
      "cell_type": "markdown",
      "source": [
        "# [5) SVG Tutorial](//https://www.w3schools.com/graphics/svg_intro.asp)"
      ],
      "metadata": {
        "id": "cO2xYKnxPNUk"
      }
    },
    {
      "cell_type": "markdown",
      "source": [
        "*SVG stands for Scalable Vector Graphics.*\n",
        "\n",
        "*SVG defines vector-based graphics in XML format.*\n"
      ],
      "metadata": {
        "id": "jOeGNautyXJW"
      }
    },
    {
      "cell_type": "markdown",
      "source": [
        "**SVG Example**"
      ],
      "metadata": {
        "id": "UtAHx4rtzguU"
      }
    },
    {
      "cell_type": "code",
      "source": [
        "%%html\n",
        "\n",
        "<html>\n",
        "<body>\n",
        "\n",
        "<h1>My first SVG</h1>\n",
        "\n",
        "<svg width=\"100\" height=\"100\">\n",
        "  <circle cx=\"50\" cy=\"50\" r=\"40\" stroke=\"green\" stroke-width=\"4\" fill=\"yellow\" />\n",
        "</svg>\n",
        "\n",
        "</body>\n",
        "</html> "
      ],
      "metadata": {
        "colab": {
          "base_uri": "https://localhost:8080/",
          "height": 178
        },
        "id": "26eCOPSBxtvw",
        "outputId": "ca8dcc50-6453-479f-9440-2bb1471cfa29"
      },
      "execution_count": null,
      "outputs": [
        {
          "output_type": "display_data",
          "data": {
            "text/html": [
              "<html>\n",
              "<body>\n",
              "\n",
              "<h1>My first SVG</h1>\n",
              "\n",
              "<svg width=\"100\" height=\"100\">\n",
              "  <circle cx=\"50\" cy=\"50\" r=\"40\" stroke=\"green\" stroke-width=\"4\" fill=\"yellow\" />\n",
              "</svg>\n",
              "\n",
              "</body>\n",
              "</html> "
            ],
            "text/plain": [
              "<IPython.core.display.HTML object>"
            ]
          },
          "metadata": {}
        }
      ]
    },
    {
      "cell_type": "markdown",
      "source": [
        "## [SVG in HTML](https://www.w3schools.com/graphics/svg_inhtml.asp)"
      ],
      "metadata": {
        "id": "DoxBEyk713ky"
      }
    },
    {
      "cell_type": "code",
      "source": [
        " %%html\n",
        " <!DOCTYPE html>\n",
        "<html>\n",
        "<body>\n",
        "\n",
        "<h1>My first SVG</h1>\n",
        "\n",
        "<svg width=\"100\" height=\"100\">\n",
        "  <circle cx=\"50\" cy=\"50\" r=\"40\" stroke=\"green\" stroke-width=\"4\" fill=\"yellow\" />\n",
        "</svg>\n",
        "\n",
        "</body>\n",
        "</html> "
      ],
      "metadata": {
        "colab": {
          "base_uri": "https://localhost:8080/",
          "height": 178
        },
        "id": "7cA6taHm2o2t",
        "outputId": "e6c1345f-7a5f-4ddd-d121-1fc4d787e4ee"
      },
      "execution_count": null,
      "outputs": [
        {
          "output_type": "display_data",
          "data": {
            "text/html": [
              "<!DOCTYPE html>\n",
              "<html>\n",
              "<body>\n",
              "\n",
              "<h1>My first SVG</h1>\n",
              "\n",
              "<svg width=\"100\" height=\"100\">\n",
              " <circle cx=\"50\" cy=\"50\" r=\"40\" stroke=\"green\" stroke-width=\"4\" fill=\"yellow\" />\n",
              "</svg>\n",
              "\n",
              "</body>\n",
              "</html> "
            ],
            "text/plain": [
              "<IPython.core.display.HTML object>"
            ]
          },
          "metadata": {}
        }
      ]
    },
    {
      "cell_type": "markdown",
      "source": [
        "## [SVG &lt;rect&gt;](https://www.w3schools.com/graphics/svg_rect.asp)"
      ],
      "metadata": {
        "id": "SdGvAHI83N0i"
      }
    },
    {
      "cell_type": "markdown",
      "source": [
        "Example 1"
      ],
      "metadata": {
        "id": "hjYxY9qw4oMG"
      }
    },
    {
      "cell_type": "code",
      "source": [
        "%%svg\n",
        " <svg width=\"400\" height=\"110\">\n",
        "  <rect width=\"300\" height=\"100\" style=\"fill:rgb(0,0,255);stroke-width:3;stroke:rgb(0,0,0)\" />\n",
        "</svg> "
      ],
      "metadata": {
        "colab": {
          "base_uri": "https://localhost:8080/",
          "height": 131
        },
        "id": "4jFiiA9W42BP",
        "outputId": "cde07c19-8641-4ac1-fb5a-a4b39fd009cf"
      },
      "execution_count": null,
      "outputs": [
        {
          "output_type": "display_data",
          "data": {
            "text/plain": [
              "<IPython.core.display.SVG object>"
            ],
            "image/svg+xml": "<svg height=\"110\" width=\"400\">\n  <rect height=\"100\" style=\"fill:rgb(0,0,255);stroke-width:3;stroke:rgb(0,0,0)\" width=\"300\"/>\n</svg>"
          },
          "metadata": {}
        }
      ]
    },
    {
      "cell_type": "markdown",
      "source": [
        "Example 2"
      ],
      "metadata": {
        "id": "CbI7MY095U6d"
      }
    },
    {
      "cell_type": "code",
      "source": [
        " %%svg\n",
        " <svg width=\"400\" height=\"180\">\n",
        "  <rect x=\"50\" y=\"20\" width=\"150\" height=\"150\"\n",
        "  style=\"fill:blue;stroke:pink;stroke-width:5;fill-opacity:0.1;stroke-opacity:0.9\" />\n",
        "</svg> "
      ],
      "metadata": {
        "colab": {
          "base_uri": "https://localhost:8080/",
          "height": 201
        },
        "id": "JWFelvAs5YPv",
        "outputId": "7d1213c0-8b46-42fe-9cd6-c83b74aa6ebd"
      },
      "execution_count": null,
      "outputs": [
        {
          "output_type": "display_data",
          "data": {
            "text/plain": [
              "<IPython.core.display.SVG object>"
            ],
            "image/svg+xml": "<svg height=\"180\" width=\"400\">\n <rect height=\"150\" style=\"fill:blue;stroke:pink;stroke-width:5;fill-opacity:0.1;stroke-opacity:0.9\" width=\"150\" x=\"50\" y=\"20\"/>\n</svg>"
          },
          "metadata": {}
        }
      ]
    },
    {
      "cell_type": "markdown",
      "source": [
        "Example 3"
      ],
      "metadata": {
        "id": "Zd9WvMOn6Lj9"
      }
    },
    {
      "cell_type": "code",
      "source": [
        " %%svg\n",
        " <svg width=\"400\" height=\"180\">\n",
        "  <rect x=\"50\" y=\"20\" width=\"150\" height=\"150\"\n",
        "  style=\"fill:blue;stroke:pink;stroke-width:5;opacity:0.5\" />\n",
        "</svg> "
      ],
      "metadata": {
        "colab": {
          "base_uri": "https://localhost:8080/",
          "height": 201
        },
        "id": "OaGJRx0r6dEG",
        "outputId": "73631365-e9f0-4ba2-f5f7-7be24db990bc"
      },
      "execution_count": null,
      "outputs": [
        {
          "output_type": "display_data",
          "data": {
            "text/plain": [
              "<IPython.core.display.SVG object>"
            ],
            "image/svg+xml": "<svg height=\"180\" width=\"400\">\n <rect height=\"150\" style=\"fill:blue;stroke:pink;stroke-width:5;opacity:0.5\" width=\"150\" x=\"50\" y=\"20\"/>\n</svg>"
          },
          "metadata": {}
        }
      ]
    },
    {
      "cell_type": "markdown",
      "source": [
        "Example 4"
      ],
      "metadata": {
        "id": "ApKu3Lrg7RNM"
      }
    },
    {
      "cell_type": "code",
      "source": [
        " %%svg\n",
        " <svg width=\"400\" height=\"180\">\n",
        "  <rect x=\"50\" y=\"20\" rx=\"20\" ry=\"20\" width=\"150\" height=\"150\"\n",
        "  style=\"fill:red;stroke:black;stroke-width:5;opacity:0.5\" />\n",
        "</svg> "
      ],
      "metadata": {
        "colab": {
          "base_uri": "https://localhost:8080/",
          "height": 201
        },
        "id": "rTAWtthH7oPP",
        "outputId": "bff3545a-294a-4ceb-b940-090b6ff39a43"
      },
      "execution_count": null,
      "outputs": [
        {
          "output_type": "display_data",
          "data": {
            "text/plain": [
              "<IPython.core.display.SVG object>"
            ],
            "image/svg+xml": "<svg height=\"180\" width=\"400\">\n <rect height=\"150\" rx=\"20\" ry=\"20\" style=\"fill:red;stroke:black;stroke-width:5;opacity:0.5\" width=\"150\" x=\"50\" y=\"20\"/>\n</svg>"
          },
          "metadata": {}
        }
      ]
    },
    {
      "cell_type": "markdown",
      "source": [
        "##[SVG &lt;circle&gt;](https://www.w3schools.com/graphics/svg_circle.asp)"
      ],
      "metadata": {
        "id": "Xph3kgWB8ozD"
      }
    },
    {
      "cell_type": "code",
      "source": [
        "%%svg\n",
        " <svg height=\"100\" width=\"100\">\n",
        "  <circle cx=\"50\" cy=\"50\" r=\"40\" stroke=\"black\" stroke-width=\"3\" fill=\"red\" />\n",
        "</svg> "
      ],
      "metadata": {
        "colab": {
          "base_uri": "https://localhost:8080/",
          "height": 121
        },
        "id": "J6nyXCU09ntk",
        "outputId": "b490ffc9-cd26-4a0f-a5a8-6cd73f6fb23f"
      },
      "execution_count": null,
      "outputs": [
        {
          "output_type": "display_data",
          "data": {
            "text/plain": [
              "<IPython.core.display.SVG object>"
            ],
            "image/svg+xml": "<svg height=\"100\" width=\"100\">\n  <circle cx=\"50\" cy=\"50\" fill=\"red\" r=\"40\" stroke=\"black\" stroke-width=\"3\"/>\n</svg>"
          },
          "metadata": {}
        }
      ]
    },
    {
      "cell_type": "markdown",
      "source": [
        "## [SVG &lt;ellipse&gt;](https://www.w3schools.com/graphics/svg_ellipse.asp)"
      ],
      "metadata": {
        "id": "8OsUru439YB8"
      }
    },
    {
      "cell_type": "markdown",
      "source": [
        "Example 1"
      ],
      "metadata": {
        "id": "IA4Om6AbCVbE"
      }
    },
    {
      "cell_type": "code",
      "source": [
        " %%svg\n",
        " <svg height=\"140\" width=\"500\">\n",
        "  <ellipse cx=\"200\" cy=\"80\" rx=\"100\" ry=\"50\"\n",
        "  style=\"fill:yellow;stroke:purple;stroke-width:2\" />\n",
        "</svg> "
      ],
      "metadata": {
        "colab": {
          "base_uri": "https://localhost:8080/",
          "height": 161
        },
        "id": "rZJ_dygtCggh",
        "outputId": "7a17fc4c-665b-40b8-b53b-da7580c52be9"
      },
      "execution_count": null,
      "outputs": [
        {
          "output_type": "display_data",
          "data": {
            "text/plain": [
              "<IPython.core.display.SVG object>"
            ],
            "image/svg+xml": "<svg height=\"140\" width=\"500\">\n <ellipse cx=\"200\" cy=\"80\" rx=\"100\" ry=\"50\" style=\"fill:yellow;stroke:purple;stroke-width:2\"/>\n</svg>"
          },
          "metadata": {}
        }
      ]
    },
    {
      "cell_type": "markdown",
      "source": [
        "Example 2"
      ],
      "metadata": {
        "id": "rynW1lmcClaj"
      }
    },
    {
      "cell_type": "code",
      "source": [
        " %%svg\n",
        " <svg height=\"150\" width=\"500\">\n",
        "  <ellipse cx=\"240\" cy=\"100\" rx=\"220\" ry=\"30\" style=\"fill:purple\" />\n",
        "  <ellipse cx=\"220\" cy=\"70\" rx=\"190\" ry=\"20\" style=\"fill:lime\" />\n",
        "  <ellipse cx=\"210\" cy=\"45\" rx=\"170\" ry=\"15\" style=\"fill:yellow\" />\n",
        "</svg> "
      ],
      "metadata": {
        "colab": {
          "base_uri": "https://localhost:8080/",
          "height": 171
        },
        "id": "ATL6EBAQCvM6",
        "outputId": "a69dfc9e-3cf9-4cdb-823d-48429fbc7b7a"
      },
      "execution_count": null,
      "outputs": [
        {
          "output_type": "display_data",
          "data": {
            "text/plain": [
              "<IPython.core.display.SVG object>"
            ],
            "image/svg+xml": "<svg height=\"150\" width=\"500\">\n <ellipse cx=\"240\" cy=\"100\" rx=\"220\" ry=\"30\" style=\"fill:purple\"/>\n <ellipse cx=\"220\" cy=\"70\" rx=\"190\" ry=\"20\" style=\"fill:lime\"/>\n <ellipse cx=\"210\" cy=\"45\" rx=\"170\" ry=\"15\" style=\"fill:yellow\"/>\n</svg>"
          },
          "metadata": {}
        }
      ]
    },
    {
      "cell_type": "markdown",
      "source": [
        "Example 3"
      ],
      "metadata": {
        "id": "YCKTHsz_C4ao"
      }
    },
    {
      "cell_type": "code",
      "source": [
        " %%svg\n",
        " <svg height=\"100\" width=\"500\">\n",
        "  <ellipse cx=\"240\" cy=\"50\" rx=\"220\" ry=\"30\" style=\"fill:yellow\" />\n",
        "  <ellipse cx=\"220\" cy=\"50\" rx=\"190\" ry=\"20\" style=\"fill:white\" />\n",
        "</svg> "
      ],
      "metadata": {
        "colab": {
          "base_uri": "https://localhost:8080/",
          "height": 121
        },
        "id": "mQU8Su6XC8yS",
        "outputId": "486cda8a-c762-4f70-da7f-d4639ed9500a"
      },
      "execution_count": null,
      "outputs": [
        {
          "output_type": "display_data",
          "data": {
            "text/plain": [
              "<IPython.core.display.SVG object>"
            ],
            "image/svg+xml": "<svg height=\"100\" width=\"500\">\n <ellipse cx=\"240\" cy=\"50\" rx=\"220\" ry=\"30\" style=\"fill:yellow\"/>\n <ellipse cx=\"220\" cy=\"50\" rx=\"190\" ry=\"20\" style=\"fill:white\"/>\n</svg>"
          },
          "metadata": {}
        }
      ]
    },
    {
      "cell_type": "markdown",
      "source": [
        "## [SVG &lt;line&gt;](https://https://www.w3schools.com/graphics/svg_line.asp)"
      ],
      "metadata": {
        "id": "CfKEW7egDV_j"
      }
    },
    {
      "cell_type": "code",
      "source": [
        " %%svg\n",
        " <svg height=\"210\" width=\"500\">\n",
        "  <line x1=\"0\" y1=\"0\" x2=\"200\" y2=\"200\" style=\"stroke:rgb(255,0,0);stroke-width:2\" />\n",
        "</svg> "
      ],
      "metadata": {
        "colab": {
          "base_uri": "https://localhost:8080/",
          "height": 231
        },
        "id": "QSF2CSBYD_1i",
        "outputId": "7ca54fb3-d743-46db-d2ba-401198c20504"
      },
      "execution_count": null,
      "outputs": [
        {
          "output_type": "display_data",
          "data": {
            "text/plain": [
              "<IPython.core.display.SVG object>"
            ],
            "image/svg+xml": "<svg height=\"210\" width=\"500\">\n <line style=\"stroke:rgb(255,0,0);stroke-width:2\" x1=\"0\" x2=\"200\" y1=\"0\" y2=\"200\"/>\n</svg>"
          },
          "metadata": {}
        }
      ]
    },
    {
      "cell_type": "markdown",
      "source": [
        "## [SVG &lt;polygon&gt;](https://www.w3schools.com/graphics/svg_polygon.asp)"
      ],
      "metadata": {
        "id": "XsV5bVXbEZ8D"
      }
    },
    {
      "cell_type": "markdown",
      "source": [
        "Example 1"
      ],
      "metadata": {
        "id": "PPqVc9xOE5Bt"
      }
    },
    {
      "cell_type": "code",
      "source": [
        " %%svg\n",
        " <svg height=\"210\" width=\"500\">\n",
        "  <polygon points=\"200,10 250,190 160,210\" style=\"fill:lime;stroke:purple;stroke-width:1\" />\n",
        "</svg> "
      ],
      "metadata": {
        "colab": {
          "base_uri": "https://localhost:8080/",
          "height": 231
        },
        "id": "vSOmuB_0FDFU",
        "outputId": "15980b16-22bd-4264-9a9c-6eb1dd92f43b"
      },
      "execution_count": null,
      "outputs": [
        {
          "output_type": "display_data",
          "data": {
            "text/plain": [
              "<IPython.core.display.SVG object>"
            ],
            "image/svg+xml": "<svg height=\"210\" width=\"500\">\n <polygon points=\"200,10 250,190 160,210\" style=\"fill:lime;stroke:purple;stroke-width:1\"/>\n</svg>"
          },
          "metadata": {}
        }
      ]
    },
    {
      "cell_type": "markdown",
      "source": [
        "Example 2"
      ],
      "metadata": {
        "id": "k2GH467kFeNt"
      }
    },
    {
      "cell_type": "code",
      "source": [
        " %%svg\n",
        " <svg height=\"250\" width=\"500\">\n",
        "  <polygon points=\"220,10 300,210 170,250 123,234\" style=\"fill:lime;stroke:purple;stroke-width:1\" />\n",
        "</svg> "
      ],
      "metadata": {
        "colab": {
          "base_uri": "https://localhost:8080/",
          "height": 271
        },
        "id": "C2PfzDOtFfPJ",
        "outputId": "cba90896-c4b4-4c89-a219-ff14e99355db"
      },
      "execution_count": null,
      "outputs": [
        {
          "output_type": "display_data",
          "data": {
            "text/plain": [
              "<IPython.core.display.SVG object>"
            ],
            "image/svg+xml": "<svg height=\"250\" width=\"500\">\n <polygon points=\"220,10 300,210 170,250 123,234\" style=\"fill:lime;stroke:purple;stroke-width:1\"/>\n</svg>"
          },
          "metadata": {}
        }
      ]
    },
    {
      "cell_type": "markdown",
      "source": [
        "Example 3"
      ],
      "metadata": {
        "id": "tP5OLtstFo5D"
      }
    },
    {
      "cell_type": "code",
      "source": [
        " %%svg\n",
        " <svg height=\"210\" width=\"500\">\n",
        "  <polygon points=\"100,10 40,198 190,78 10,78 160,198\"\n",
        "  style=\"fill:lime;stroke:purple;stroke-width:5;fill-rule:nonzero;\" />\n",
        "</svg> "
      ],
      "metadata": {
        "colab": {
          "base_uri": "https://localhost:8080/",
          "height": 231
        },
        "id": "ZNzKWIiNFtI2",
        "outputId": "0f2f781c-beb3-4fb4-ab84-a63f0ccecb82"
      },
      "execution_count": null,
      "outputs": [
        {
          "output_type": "display_data",
          "data": {
            "text/plain": [
              "<IPython.core.display.SVG object>"
            ],
            "image/svg+xml": "<svg height=\"210\" width=\"500\">\n <polygon points=\"100,10 40,198 190,78 10,78 160,198\" style=\"fill:lime;stroke:purple;stroke-width:5;fill-rule:nonzero;\"/>\n</svg>"
          },
          "metadata": {}
        }
      ]
    },
    {
      "cell_type": "markdown",
      "source": [
        "Example 4"
      ],
      "metadata": {
        "id": "-vx8RLpRF_Sy"
      }
    },
    {
      "cell_type": "code",
      "source": [
        " %%svg\n",
        " <svg height=\"210\" width=\"500\">\n",
        "  <polygon points=\"100,10 40,198 190,78 10,78 160,198\"\n",
        "  style=\"fill:lime;stroke:purple;stroke-width:5;fill-rule:evenodd;\" />\n",
        "</svg> "
      ],
      "metadata": {
        "colab": {
          "base_uri": "https://localhost:8080/",
          "height": 231
        },
        "id": "0WxYzJnXGDv4",
        "outputId": "fb2c6784-2fc2-46f2-dc04-c0751fc82174"
      },
      "execution_count": null,
      "outputs": [
        {
          "output_type": "display_data",
          "data": {
            "text/plain": [
              "<IPython.core.display.SVG object>"
            ],
            "image/svg+xml": "<svg height=\"210\" width=\"500\">\n <polygon points=\"100,10 40,198 190,78 10,78 160,198\" style=\"fill:lime;stroke:purple;stroke-width:5;fill-rule:evenodd;\"/>\n</svg>"
          },
          "metadata": {}
        }
      ]
    },
    {
      "cell_type": "markdown",
      "source": [
        "## [SVG &lt;polyline&gt;](https://www.w3schools.com/graphics/svg_polyline.asp)"
      ],
      "metadata": {
        "id": "VtCkKRwBGPmz"
      }
    },
    {
      "cell_type": "markdown",
      "source": [
        "Example 1"
      ],
      "metadata": {
        "id": "IipBeRIRGyT_"
      }
    },
    {
      "cell_type": "code",
      "source": [
        " %%svg\n",
        " <svg height=\"200\" width=\"500\">\n",
        "  <polyline points=\"20,20 40,25 60,40 80,120 120,140 200,180\"\n",
        "  style=\"fill:none;stroke:black;stroke-width:3\" />\n",
        "</svg> "
      ],
      "metadata": {
        "colab": {
          "base_uri": "https://localhost:8080/",
          "height": 221
        },
        "id": "W7mfNQJtG8ie",
        "outputId": "04ea87fe-b386-4928-93e0-bfbe4dcb6e31"
      },
      "execution_count": null,
      "outputs": [
        {
          "output_type": "display_data",
          "data": {
            "text/plain": [
              "<IPython.core.display.SVG object>"
            ],
            "image/svg+xml": "<svg height=\"200\" width=\"500\">\n <polyline points=\"20,20 40,25 60,40 80,120 120,140 200,180\" style=\"fill:none;stroke:black;stroke-width:3\"/>\n</svg>"
          },
          "metadata": {}
        }
      ]
    },
    {
      "cell_type": "markdown",
      "source": [
        "Example 2 "
      ],
      "metadata": {
        "id": "cKJTgluzHVaH"
      }
    },
    {
      "cell_type": "code",
      "source": [
        " %%svg\n",
        " <svg height=\"180\" width=\"500\">\n",
        "  <polyline points=\"0,40 40,40 40,80 80,80 80,120 120,120 120,160\"\n",
        "  style=\"fill:white;stroke:red;stroke-width:4\" />\n",
        "</svg> "
      ],
      "metadata": {
        "colab": {
          "base_uri": "https://localhost:8080/",
          "height": 201
        },
        "id": "sVPM7cfOHfFB",
        "outputId": "473cbbd9-44f2-41ce-9b07-84a93b960a32"
      },
      "execution_count": null,
      "outputs": [
        {
          "output_type": "display_data",
          "data": {
            "text/plain": [
              "<IPython.core.display.SVG object>"
            ],
            "image/svg+xml": "<svg height=\"180\" width=\"500\">\n <polyline points=\"0,40 40,40 40,80 80,80 80,120 120,120 120,160\" style=\"fill:white;stroke:red;stroke-width:4\"/>\n</svg>"
          },
          "metadata": {}
        }
      ]
    },
    {
      "cell_type": "markdown",
      "source": [
        "## [SVG &lt;path&gt;](https://www.w3schools.com/graphics/svg_path.asp)"
      ],
      "metadata": {
        "id": "0Z85377PH5WA"
      }
    },
    {
      "cell_type": "markdown",
      "source": [
        "Example 1"
      ],
      "metadata": {
        "id": "jX4-mu5XImSE"
      }
    },
    {
      "cell_type": "code",
      "source": [
        "%%svg\n",
        "<svg height=\"210\" width=\"400\">\n",
        "  <path d=\"M150 0 L75 200 L225 200 Z\" />\n",
        "</svg>"
      ],
      "metadata": {
        "colab": {
          "base_uri": "https://localhost:8080/",
          "height": 231
        },
        "id": "OnVD9HR8I-8F",
        "outputId": "f7fd2cdf-4756-4eae-a433-94b2511e8f3f"
      },
      "execution_count": null,
      "outputs": [
        {
          "output_type": "display_data",
          "data": {
            "text/plain": [
              "<IPython.core.display.SVG object>"
            ],
            "image/svg+xml": "<svg height=\"210\" width=\"400\">\n  <path d=\"M150 0 L75 200 L225 200 Z\"/>\n</svg>"
          },
          "metadata": {}
        }
      ]
    },
    {
      "cell_type": "markdown",
      "source": [
        "Example 2"
      ],
      "metadata": {
        "id": "-KgXuowEJmfa"
      }
    },
    {
      "cell_type": "code",
      "source": [
        "%%svg \n",
        " <svg height=\"400\" width=\"450\">\n",
        "  <path id=\"lineAB\" d=\"M 100 350 l 150 -300\" stroke=\"red\"\n",
        "  stroke-width=\"3\" fill=\"none\" />\n",
        "  <path id=\"lineBC\" d=\"M 250 50 l 150 300\" stroke=\"red\"\n",
        "  stroke-width=\"3\" fill=\"none\" />\n",
        "  <path d=\"M 175 200 l 150 0\" stroke=\"green\" stroke-width=\"3\"\n",
        "  fill=\"none\" />\n",
        "  <path d=\"M 100 350 q 150 -300 300 0\" stroke=\"blue\"\n",
        "  stroke-width=\"5\" fill=\"none\" />\n",
        "  <!-- Mark relevant points -->\n",
        "  <g stroke=\"black\" stroke-width=\"3\" fill=\"black\">\n",
        "    <circle id=\"pointA\" cx=\"100\" cy=\"350\" r=\"3\" />\n",
        "    <circle id=\"pointB\" cx=\"250\" cy=\"50\" r=\"3\" />\n",
        "    <circle id=\"pointC\" cx=\"400\" cy=\"350\" r=\"3\" />\n",
        "  </g>\n",
        "  <!-- Label the points -->\n",
        "  <g font-size=\"30\" font-family=\"sans-serif\" fill=\"black\" stroke=\"none\"\n",
        "  text-anchor=\"middle\">\n",
        "    <text x=\"100\" y=\"350\" dx=\"-30\">A</text>\n",
        "    <text x=\"250\" y=\"50\" dy=\"-10\">B</text>\n",
        "    <text x=\"400\" y=\"350\" dx=\"30\">C</text>\n",
        "  </g>\n",
        "</svg> "
      ],
      "metadata": {
        "colab": {
          "base_uri": "https://localhost:8080/",
          "height": 421
        },
        "id": "8oHzUnGLJuWj",
        "outputId": "19ef0c83-6613-43c0-b867-986b53bdcb7b"
      },
      "execution_count": null,
      "outputs": [
        {
          "output_type": "display_data",
          "data": {
            "text/plain": [
              "<IPython.core.display.SVG object>"
            ],
            "image/svg+xml": "<svg height=\"400\" width=\"450\">\n  <path d=\"M 100 350 l 150 -300\" fill=\"none\" id=\"lineAB\" stroke=\"red\" stroke-width=\"3\"/>\n  <path d=\"M 250 50 l 150 300\" fill=\"none\" id=\"lineBC\" stroke=\"red\" stroke-width=\"3\"/>\n  <path d=\"M 175 200 l 150 0\" fill=\"none\" stroke=\"green\" stroke-width=\"3\"/>\n  <path d=\"M 100 350 q 150 -300 300 0\" fill=\"none\" stroke=\"blue\" stroke-width=\"5\"/>\n  <!-- Mark relevant points -->\n  <g fill=\"black\" stroke=\"black\" stroke-width=\"3\">\n    <circle cx=\"100\" cy=\"350\" id=\"pointA\" r=\"3\"/>\n    <circle cx=\"250\" cy=\"50\" id=\"pointB\" r=\"3\"/>\n    <circle cx=\"400\" cy=\"350\" id=\"pointC\" r=\"3\"/>\n  </g>\n  <!-- Label the points -->\n  <g fill=\"black\" font-family=\"sans-serif\" font-size=\"30\" stroke=\"none\" text-anchor=\"middle\">\n    <text dx=\"-30\" x=\"100\" y=\"350\">A</text>\n    <text dy=\"-10\" x=\"250\" y=\"50\">B</text>\n    <text dx=\"30\" x=\"400\" y=\"350\">C</text>\n  </g>\n</svg>"
          },
          "metadata": {}
        }
      ]
    },
    {
      "cell_type": "markdown",
      "source": [
        "## [SVG &lt;text&gt;](https://www.w3schools.com/graphics/svg_text.asp)"
      ],
      "metadata": {
        "id": "3Mvv9UZHKWZD"
      }
    },
    {
      "cell_type": "markdown",
      "source": [
        "Example 1"
      ],
      "metadata": {
        "id": "5EyCL_AVKwaZ"
      }
    },
    {
      "cell_type": "code",
      "source": [
        " %%svg\n",
        " <svg height=\"30\" width=\"200\">\n",
        "  <text x=\"0\" y=\"15\" fill=\"red\">I love SVG!</text>\n",
        "</svg> "
      ],
      "metadata": {
        "colab": {
          "base_uri": "https://localhost:8080/",
          "height": 51
        },
        "id": "Yt3NMVSPK6FQ",
        "outputId": "5fe66936-3df6-4d72-ae9c-f1b8280db883"
      },
      "execution_count": null,
      "outputs": [
        {
          "output_type": "display_data",
          "data": {
            "text/plain": [
              "<IPython.core.display.SVG object>"
            ],
            "image/svg+xml": "<svg height=\"30\" width=\"200\">\n <text fill=\"red\" x=\"0\" y=\"15\">I love SVG!</text>\n</svg>"
          },
          "metadata": {}
        }
      ]
    },
    {
      "cell_type": "markdown",
      "source": [
        "Example 2"
      ],
      "metadata": {
        "id": "9K4IVnDsLDOJ"
      }
    },
    {
      "cell_type": "code",
      "source": [
        " %%svg\n",
        " <svg height=\"60\" width=\"200\">\n",
        "  <text x=\"0\" y=\"15\" fill=\"red\" transform=\"rotate(30 20,40)\">I love SVG</text>\n",
        "</svg> "
      ],
      "metadata": {
        "colab": {
          "base_uri": "https://localhost:8080/",
          "height": 81
        },
        "id": "8dINCneELGzL",
        "outputId": "bdafdf8a-9ab0-484c-d783-2186ce340859"
      },
      "execution_count": null,
      "outputs": [
        {
          "output_type": "display_data",
          "data": {
            "text/plain": [
              "<IPython.core.display.SVG object>"
            ],
            "image/svg+xml": "<svg height=\"60\" width=\"200\">\n <text fill=\"red\" transform=\"rotate(30 20,40)\" x=\"0\" y=\"15\">I love SVG</text>\n</svg>"
          },
          "metadata": {}
        }
      ]
    },
    {
      "cell_type": "markdown",
      "source": [
        "Example 3"
      ],
      "metadata": {
        "id": "jTgzwZfNLSQ-"
      }
    },
    {
      "cell_type": "code",
      "source": [
        " %%svg\n",
        " <svg height=\"90\" width=\"200\">\n",
        "  <text x=\"10\" y=\"20\" style=\"fill:red;\">Several lines:\n",
        "    <tspan x=\"10\" y=\"45\">First line.</tspan>\n",
        "    <tspan x=\"10\" y=\"70\">Second line.</tspan>\n",
        "  </text>\n",
        "</svg> "
      ],
      "metadata": {
        "colab": {
          "base_uri": "https://localhost:8080/",
          "height": 111
        },
        "id": "lcjGFTfaLT4x",
        "outputId": "4d23a4a4-14ed-4edd-d182-3908c5676265"
      },
      "execution_count": null,
      "outputs": [
        {
          "output_type": "display_data",
          "data": {
            "text/plain": [
              "<IPython.core.display.SVG object>"
            ],
            "image/svg+xml": "<svg height=\"90\" width=\"200\">\n <text style=\"fill:red;\" x=\"10\" y=\"20\">Several lines:\n   <tspan x=\"10\" y=\"45\">First line.</tspan>\n   <tspan x=\"10\" y=\"70\">Second line.</tspan>\n </text>\n</svg>"
          },
          "metadata": {}
        }
      ]
    },
    {
      "cell_type": "markdown",
      "source": [
        "Example 4"
      ],
      "metadata": {
        "id": "f25VtVyYLi8W"
      }
    },
    {
      "cell_type": "code",
      "source": [
        " %%svg\n",
        " <svg height=\"30\" width=\"200\" xmlns:xlink=\"http://www.w3.org/1999/xlink\">\n",
        "  <a xlink:href=\"https://www.w3schools.com/graphics/\" target=\"_blank\">\n",
        "    <text x=\"0\" y=\"15\" fill=\"red\">I love SVG!</text>\n",
        "  </a>\n",
        "</svg> "
      ],
      "metadata": {
        "colab": {
          "base_uri": "https://localhost:8080/",
          "height": 51
        },
        "id": "ojOCUc7_LlJG",
        "outputId": "6065043f-1770-4c36-d91f-c933d979108f"
      },
      "execution_count": null,
      "outputs": [
        {
          "output_type": "display_data",
          "data": {
            "text/plain": [
              "<IPython.core.display.SVG object>"
            ],
            "image/svg+xml": "<svg height=\"30\" width=\"200\" xmlns:xlink=\"http://www.w3.org/1999/xlink\">\n <a target=\"_blank\" xlink:href=\"https://www.w3schools.com/graphics/\">\n   <text fill=\"red\" x=\"0\" y=\"15\">I love SVG!</text>\n </a>\n</svg>"
          },
          "metadata": {}
        }
      ]
    },
    {
      "cell_type": "markdown",
      "source": [
        "## [SVG Stroking](https://www.w3schools.com/graphics/svg_stroking.asp)"
      ],
      "metadata": {
        "id": "npOlzJD5Lp-0"
      }
    },
    {
      "cell_type": "markdown",
      "source": [
        "**SVG stroke Property**"
      ],
      "metadata": {
        "id": "2_CuPON9MX1Z"
      }
    },
    {
      "cell_type": "markdown",
      "source": [
        "Example"
      ],
      "metadata": {
        "id": "skjvA9vsMcjP"
      }
    },
    {
      "cell_type": "code",
      "source": [
        " %%svg\n",
        " <svg height=\"80\" width=\"300\">\n",
        "  <g fill=\"none\">\n",
        "    <path stroke=\"red\" d=\"M5 20 l215 0\" />\n",
        "    <path stroke=\"black\" d=\"M5 40 l215 0\" />\n",
        "    <path stroke=\"blue\" d=\"M5 60 l215 0\" />\n",
        "  </g>\n",
        "</svg> "
      ],
      "metadata": {
        "colab": {
          "base_uri": "https://localhost:8080/",
          "height": 101
        },
        "id": "0tuRtFrqNFj9",
        "outputId": "f13f1d7c-7262-4d1e-e66c-aecc563cb873"
      },
      "execution_count": null,
      "outputs": [
        {
          "output_type": "display_data",
          "data": {
            "text/plain": [
              "<IPython.core.display.SVG object>"
            ],
            "image/svg+xml": "<svg height=\"80\" width=\"300\">\n <g fill=\"none\">\n   <path d=\"M5 20 l215 0\" stroke=\"red\"/>\n   <path d=\"M5 40 l215 0\" stroke=\"black\"/>\n   <path d=\"M5 60 l215 0\" stroke=\"blue\"/>\n </g>\n</svg>"
          },
          "metadata": {}
        }
      ]
    },
    {
      "cell_type": "markdown",
      "source": [
        "**SVG stroke-width Property**"
      ],
      "metadata": {
        "id": "nTQob97HNU1n"
      }
    },
    {
      "cell_type": "markdown",
      "source": [
        "Example"
      ],
      "metadata": {
        "id": "_U7UudLsNhDF"
      }
    },
    {
      "cell_type": "code",
      "source": [
        " %%svg\n",
        " <svg height=\"80\" width=\"300\">\n",
        "  <g fill=\"none\" stroke=\"black\">\n",
        "    <path stroke-width=\"2\" d=\"M5 20 l215 0\" />\n",
        "    <path stroke-width=\"4\" d=\"M5 40 l215 0\" />\n",
        "    <path stroke-width=\"6\" d=\"M5 60 l215 0\" />\n",
        "  </g>\n",
        "</svg> "
      ],
      "metadata": {
        "colab": {
          "base_uri": "https://localhost:8080/",
          "height": 101
        },
        "id": "crWjMKb2NjJX",
        "outputId": "1fa697d2-0082-4388-c40d-ccbd4a6344d6"
      },
      "execution_count": null,
      "outputs": [
        {
          "output_type": "display_data",
          "data": {
            "text/plain": [
              "<IPython.core.display.SVG object>"
            ],
            "image/svg+xml": "<svg height=\"80\" width=\"300\">\n <g fill=\"none\" stroke=\"black\">\n   <path d=\"M5 20 l215 0\" stroke-width=\"2\"/>\n   <path d=\"M5 40 l215 0\" stroke-width=\"4\"/>\n   <path d=\"M5 60 l215 0\" stroke-width=\"6\"/>\n </g>\n</svg>"
          },
          "metadata": {}
        }
      ]
    },
    {
      "cell_type": "markdown",
      "source": [
        "**SVG stroke-linecap Property**"
      ],
      "metadata": {
        "id": "v8pWjdxHNs6r"
      }
    },
    {
      "cell_type": "markdown",
      "source": [
        "Example"
      ],
      "metadata": {
        "id": "1MvhZHJPN3_s"
      }
    },
    {
      "cell_type": "code",
      "source": [
        " %%svg\n",
        " <svg height=\"80\" width=\"300\">\n",
        "  <g fill=\"none\" stroke=\"black\" stroke-width=\"6\">\n",
        "    <path stroke-linecap=\"butt\" d=\"M5 20 l215 0\" />\n",
        "    <path stroke-linecap=\"round\" d=\"M5 40 l215 0\" />\n",
        "    <path stroke-linecap=\"square\" d=\"M5 60 l215 0\" />\n",
        "  </g>\n",
        "</svg> "
      ],
      "metadata": {
        "colab": {
          "base_uri": "https://localhost:8080/",
          "height": 101
        },
        "id": "N16g9WSkN5SH",
        "outputId": "81f4c165-a14a-427b-dacd-2a16d5b2d14e"
      },
      "execution_count": null,
      "outputs": [
        {
          "output_type": "display_data",
          "data": {
            "text/plain": [
              "<IPython.core.display.SVG object>"
            ],
            "image/svg+xml": "<svg height=\"80\" width=\"300\">\n <g fill=\"none\" stroke=\"black\" stroke-width=\"6\">\n   <path d=\"M5 20 l215 0\" stroke-linecap=\"butt\"/>\n   <path d=\"M5 40 l215 0\" stroke-linecap=\"round\"/>\n   <path d=\"M5 60 l215 0\" stroke-linecap=\"square\"/>\n </g>\n</svg>"
          },
          "metadata": {}
        }
      ]
    },
    {
      "cell_type": "markdown",
      "source": [
        "**SVG stroke-dasharray Property**"
      ],
      "metadata": {
        "id": "arntuqmhOJwq"
      }
    },
    {
      "cell_type": "markdown",
      "source": [
        "Example"
      ],
      "metadata": {
        "id": "i-tn_REEOQH2"
      }
    },
    {
      "cell_type": "code",
      "source": [
        " %%svg\n",
        " <svg height=\"80\" width=\"300\">\n",
        "  <g fill=\"none\" stroke=\"black\" stroke-width=\"4\">\n",
        "    <path stroke-dasharray=\"5,5\" d=\"M5 20 l215 0\" />\n",
        "    <path stroke-dasharray=\"10,10\" d=\"M5 40 l215 0\" />\n",
        "    <path stroke-dasharray=\"20,10,5,5,5,10\" d=\"M5 60 l215 0\" />\n",
        "  </g>\n",
        "</svg> "
      ],
      "metadata": {
        "colab": {
          "base_uri": "https://localhost:8080/",
          "height": 101
        },
        "id": "_57AU2sYOSLu",
        "outputId": "b077a2db-29b6-4518-f6c5-0fad7f3b539e"
      },
      "execution_count": null,
      "outputs": [
        {
          "output_type": "display_data",
          "data": {
            "text/plain": [
              "<IPython.core.display.SVG object>"
            ],
            "image/svg+xml": "<svg height=\"80\" width=\"300\">\n <g fill=\"none\" stroke=\"black\" stroke-width=\"4\">\n   <path d=\"M5 20 l215 0\" stroke-dasharray=\"5,5\"/>\n   <path d=\"M5 40 l215 0\" stroke-dasharray=\"10,10\"/>\n   <path d=\"M5 60 l215 0\" stroke-dasharray=\"20,10,5,5,5,10\"/>\n </g>\n</svg>"
          },
          "metadata": {}
        }
      ]
    },
    {
      "cell_type": "markdown",
      "source": [
        "## [SVG Filter Elements](https://www.w3schools.com/graphics/svg_filters_intro.asp)"
      ],
      "metadata": {
        "id": "6sCJytX1Sr-B"
      }
    },
    {
      "cell_type": "markdown",
      "source": [
        "SVG Filters are used to add special effects to SVG graphics."
      ],
      "metadata": {
        "id": "PhNCH8nsWRZT"
      }
    },
    {
      "cell_type": "markdown",
      "source": [
        "## [SVG Blur Effects](https://www.w3schools.com/graphics/svg_fegaussianblur.asp)"
      ],
      "metadata": {
        "id": "oeJuomQaWZYG"
      }
    },
    {
      "cell_type": "markdown",
      "source": [
        "SVG &lt;feGaussianBlur&gt;"
      ],
      "metadata": {
        "id": "ODleeRmqWrmb"
      }
    },
    {
      "cell_type": "markdown",
      "source": [
        "Example 1"
      ],
      "metadata": {
        "id": "JfAtJPIfXP_R"
      }
    },
    {
      "cell_type": "code",
      "source": [
        " %%svg\n",
        " <svg height=\"110\" width=\"110\">\n",
        "  <defs>\n",
        "    <filter id=\"f1\" x=\"0\" y=\"0\">\n",
        "      <feGaussianBlur in=\"SourceGraphic\" stdDeviation=\"15\" />\n",
        "    </filter>\n",
        "  </defs>\n",
        "  <rect width=\"90\" height=\"90\" stroke=\"green\" stroke-width=\"3\"\n",
        "  fill=\"yellow\" filter=\"url(#f1)\" />\n",
        "</svg> "
      ],
      "metadata": {
        "colab": {
          "base_uri": "https://localhost:8080/",
          "height": 131
        },
        "id": "e6KENTorXVtj",
        "outputId": "d5ed4080-ff01-4607-d423-8ff0b8871879"
      },
      "execution_count": null,
      "outputs": [
        {
          "output_type": "display_data",
          "data": {
            "text/plain": [
              "<IPython.core.display.SVG object>"
            ],
            "image/svg+xml": "<svg height=\"110\" width=\"110\">\n <defs>\n   <filter id=\"f1\" x=\"0\" y=\"0\">\n     <feGaussianBlur in=\"SourceGraphic\" stdDeviation=\"15\"/>\n   </filter>\n </defs>\n <rect fill=\"yellow\" filter=\"url(#f1)\" height=\"90\" stroke=\"green\" stroke-width=\"3\" width=\"90\"/>\n</svg>"
          },
          "metadata": {}
        }
      ]
    },
    {
      "cell_type": "markdown",
      "source": [
        "## [SVG Drop Shadows](https://www.w3schools.com/graphics/svg_feoffset.asp)"
      ],
      "metadata": {
        "id": "axtqYpMmXhsK"
      }
    },
    {
      "cell_type": "markdown",
      "source": [
        "SVG &lt;feOffset&gt;"
      ],
      "metadata": {
        "id": "xEfDPkFYXwT4"
      }
    },
    {
      "cell_type": "markdown",
      "source": [
        "Example 1"
      ],
      "metadata": {
        "id": "XD2_HQK6YE5n"
      }
    },
    {
      "cell_type": "code",
      "source": [
        " %%svg\n",
        " <svg height=\"120\" width=\"120\">\n",
        "  <defs>\n",
        "    <filter id=\"f1\" x=\"0\" y=\"0\" width=\"200%\" height=\"200%\">\n",
        "      <feOffset result=\"offOut\" in=\"SourceGraphic\" dx=\"20\" dy=\"20\" />\n",
        "      <feBlend in=\"SourceGraphic\" in2=\"offOut\" mode=\"normal\" />\n",
        "    </filter>\n",
        "  </defs>\n",
        "  <rect width=\"90\" height=\"90\" stroke=\"green\" stroke-width=\"3\"\n",
        "  fill=\"yellow\" filter=\"url(#f1)\" />\n",
        "</svg> "
      ],
      "metadata": {
        "colab": {
          "base_uri": "https://localhost:8080/",
          "height": 141
        },
        "id": "LRiAwatrYJwT",
        "outputId": "da289d59-874c-40ec-972a-3c47fee75dc7"
      },
      "execution_count": null,
      "outputs": [
        {
          "output_type": "display_data",
          "data": {
            "text/plain": [
              "<IPython.core.display.SVG object>"
            ],
            "image/svg+xml": "<svg height=\"120\" width=\"120\">\n <defs>\n   <filter height=\"200%\" id=\"f1\" width=\"200%\" x=\"0\" y=\"0\">\n     <feOffset dx=\"20\" dy=\"20\" in=\"SourceGraphic\" result=\"offOut\"/>\n     <feBlend in=\"SourceGraphic\" in2=\"offOut\" mode=\"normal\"/>\n   </filter>\n </defs>\n <rect fill=\"yellow\" filter=\"url(#f1)\" height=\"90\" stroke=\"green\" stroke-width=\"3\" width=\"90\"/>\n</svg>"
          },
          "metadata": {}
        }
      ]
    },
    {
      "cell_type": "markdown",
      "source": [
        "Example 2"
      ],
      "metadata": {
        "id": "Vfjgdx6lYWvg"
      }
    },
    {
      "cell_type": "code",
      "source": [
        " %%svg\n",
        " <svg height=\"140\" width=\"140\">\n",
        "  <defs>\n",
        "    <filter id=\"f2\" x=\"0\" y=\"0\" width=\"200%\" height=\"200%\">\n",
        "      <feOffset result=\"offOut\" in=\"SourceGraphic\" dx=\"20\" dy=\"20\" />\n",
        "      <feGaussianBlur result=\"blurOut\" in=\"offOut\" stdDeviation=\"10\" />\n",
        "      <feBlend in=\"SourceGraphic\" in2=\"blurOut\" mode=\"normal\" />\n",
        "    </filter>\n",
        "  </defs>\n",
        "  <rect width=\"90\" height=\"90\" stroke=\"green\" stroke-width=\"3\"\n",
        "  fill=\"yellow\" filter=\"url(#f2)\" />\n",
        "</svg> "
      ],
      "metadata": {
        "colab": {
          "base_uri": "https://localhost:8080/",
          "height": 161
        },
        "id": "RzXE_QgHYYrx",
        "outputId": "ca05d42c-f298-4914-9954-9b4ede05f58c"
      },
      "execution_count": null,
      "outputs": [
        {
          "output_type": "display_data",
          "data": {
            "text/plain": [
              "<IPython.core.display.SVG object>"
            ],
            "image/svg+xml": "<svg height=\"140\" width=\"140\">\n <defs>\n   <filter height=\"200%\" id=\"f2\" width=\"200%\" x=\"0\" y=\"0\">\n     <feOffset dx=\"20\" dy=\"20\" in=\"SourceGraphic\" result=\"offOut\"/>\n     <feGaussianBlur in=\"offOut\" result=\"blurOut\" stdDeviation=\"10\"/>\n     <feBlend in=\"SourceGraphic\" in2=\"blurOut\" mode=\"normal\"/>\n   </filter>\n </defs>\n <rect fill=\"yellow\" filter=\"url(#f2)\" height=\"90\" stroke=\"green\" stroke-width=\"3\" width=\"90\"/>\n</svg>"
          },
          "metadata": {}
        }
      ]
    },
    {
      "cell_type": "markdown",
      "source": [
        "Example 3"
      ],
      "metadata": {
        "id": "gH8isi2jYoan"
      }
    },
    {
      "cell_type": "code",
      "source": [
        " %%svg\n",
        " <svg height=\"140\" width=\"140\">\n",
        "  <defs>\n",
        "    <filter id=\"f3\" x=\"0\" y=\"0\" width=\"200%\" height=\"200%\">\n",
        "      <feOffset result=\"offOut\" in=\"SourceAlpha\" dx=\"20\" dy=\"20\" />\n",
        "      <feGaussianBlur result=\"blurOut\" in=\"offOut\" stdDeviation=\"10\" />\n",
        "      <feBlend in=\"SourceGraphic\" in2=\"blurOut\" mode=\"normal\" />\n",
        "    </filter>\n",
        "  </defs>\n",
        "  <rect width=\"90\" height=\"90\" stroke=\"green\" stroke-width=\"3\"\n",
        "  fill=\"yellow\" filter=\"url(#f3)\" />\n",
        "</svg> "
      ],
      "metadata": {
        "colab": {
          "base_uri": "https://localhost:8080/",
          "height": 161
        },
        "id": "bkUueE8zYtZX",
        "outputId": "01365148-e864-4fe5-cee7-1563d886d0a4"
      },
      "execution_count": null,
      "outputs": [
        {
          "output_type": "display_data",
          "data": {
            "text/plain": [
              "<IPython.core.display.SVG object>"
            ],
            "image/svg+xml": "<svg height=\"140\" width=\"140\">\n <defs>\n   <filter height=\"200%\" id=\"f3\" width=\"200%\" x=\"0\" y=\"0\">\n     <feOffset dx=\"20\" dy=\"20\" in=\"SourceAlpha\" result=\"offOut\"/>\n     <feGaussianBlur in=\"offOut\" result=\"blurOut\" stdDeviation=\"10\"/>\n     <feBlend in=\"SourceGraphic\" in2=\"blurOut\" mode=\"normal\"/>\n   </filter>\n </defs>\n <rect fill=\"yellow\" filter=\"url(#f3)\" height=\"90\" stroke=\"green\" stroke-width=\"3\" width=\"90\"/>\n</svg>"
          },
          "metadata": {}
        }
      ]
    },
    {
      "cell_type": "markdown",
      "source": [
        "Example 4"
      ],
      "metadata": {
        "id": "BxodLakiY4vM"
      }
    },
    {
      "cell_type": "code",
      "source": [
        " %%svg\n",
        " <svg height=\"140\" width=\"140\">\n",
        "  <defs>\n",
        "    <filter id=\"f4\" x=\"0\" y=\"0\" width=\"200%\" height=\"200%\">\n",
        "      <feOffset result=\"offOut\" in=\"SourceGraphic\" dx=\"20\" dy=\"20\" />\n",
        "      <feColorMatrix result=\"matrixOut\" in=\"offOut\" type=\"matrix\"\n",
        "      values=\"0.2 0 0 0 0 0 0.2 0 0 0 0 0 0.2 0 0 0 0 0 1 0\" />\n",
        "      <feGaussianBlur result=\"blurOut\" in=\"matrixOut\" stdDeviation=\"10\" />\n",
        "      <feBlend in=\"SourceGraphic\" in2=\"blurOut\" mode=\"normal\" />\n",
        "    </filter>\n",
        "  </defs>\n",
        "  <rect width=\"90\" height=\"90\" stroke=\"green\" stroke-width=\"3\"\n",
        "  fill=\"yellow\" filter=\"url(#f4)\" />\n",
        "</svg> "
      ],
      "metadata": {
        "colab": {
          "base_uri": "https://localhost:8080/",
          "height": 161
        },
        "id": "mGSO_pTxY-RO",
        "outputId": "61970e30-965b-4f10-be1a-0bdbb8181b0a"
      },
      "execution_count": null,
      "outputs": [
        {
          "output_type": "display_data",
          "data": {
            "text/plain": [
              "<IPython.core.display.SVG object>"
            ],
            "image/svg+xml": "<svg height=\"140\" width=\"140\">\n <defs>\n   <filter height=\"200%\" id=\"f4\" width=\"200%\" x=\"0\" y=\"0\">\n     <feOffset dx=\"20\" dy=\"20\" in=\"SourceGraphic\" result=\"offOut\"/>\n     <feColorMatrix in=\"offOut\" result=\"matrixOut\" type=\"matrix\" values=\"0.2 0 0 0 0 0 0.2 0 0 0 0 0 0.2 0 0 0 0 0 1 0\"/>\n     <feGaussianBlur in=\"matrixOut\" result=\"blurOut\" stdDeviation=\"10\"/>\n     <feBlend in=\"SourceGraphic\" in2=\"blurOut\" mode=\"normal\"/>\n   </filter>\n </defs>\n <rect fill=\"yellow\" filter=\"url(#f4)\" height=\"90\" stroke=\"green\" stroke-width=\"3\" width=\"90\"/>\n</svg>"
          },
          "metadata": {}
        }
      ]
    },
    {
      "cell_type": "markdown",
      "source": [
        "## [SVG Gradients - Linear](https://www.w3schools.com/graphics/svg_grad_linear.asp)"
      ],
      "metadata": {
        "id": "bH2F5sSjY6CG"
      }
    },
    {
      "cell_type": "markdown",
      "source": [
        "SVG Linear Gradient - &lt;linearGradient&gt;"
      ],
      "metadata": {
        "id": "Rb63zKfyaIOk"
      }
    },
    {
      "cell_type": "markdown",
      "source": [
        "Example 1"
      ],
      "metadata": {
        "id": "__NbO0czac86"
      }
    },
    {
      "cell_type": "code",
      "source": [
        " %%svg\n",
        " <svg height=\"150\" width=\"400\">\n",
        "  <defs>\n",
        "    <linearGradient id=\"grad1\" x1=\"0%\" y1=\"0%\" x2=\"100%\" y2=\"0%\">\n",
        "      <stop offset=\"0%\" style=\"stop-color:rgb(255,255,0);stop-opacity:1\" />\n",
        "      <stop offset=\"100%\" style=\"stop-color:rgb(255,0,0);stop-opacity:1\" />\n",
        "    </linearGradient>\n",
        "  </defs>\n",
        "  <ellipse cx=\"200\" cy=\"70\" rx=\"85\" ry=\"55\" fill=\"url(#grad1)\" />\n",
        "</svg> "
      ],
      "metadata": {
        "colab": {
          "base_uri": "https://localhost:8080/",
          "height": 171
        },
        "id": "-FVoHe-Oao0T",
        "outputId": "3caf0b0a-1a51-4871-ae37-9a9d1552fe59"
      },
      "execution_count": null,
      "outputs": [
        {
          "output_type": "display_data",
          "data": {
            "text/plain": [
              "<IPython.core.display.SVG object>"
            ],
            "image/svg+xml": "<svg height=\"150\" width=\"400\">\n <defs>\n   <linearGradient id=\"grad1\" x1=\"0%\" x2=\"100%\" y1=\"0%\" y2=\"0%\">\n     <stop offset=\"0%\" style=\"stop-color:rgb(255,255,0);stop-opacity:1\"/>\n     <stop offset=\"100%\" style=\"stop-color:rgb(255,0,0);stop-opacity:1\"/>\n   </linearGradient>\n </defs>\n <ellipse cx=\"200\" cy=\"70\" fill=\"url(#grad1)\" rx=\"85\" ry=\"55\"/>\n</svg>"
          },
          "metadata": {}
        }
      ]
    },
    {
      "cell_type": "markdown",
      "source": [
        "Example 2"
      ],
      "metadata": {
        "id": "6-hTWJlxa5v_"
      }
    },
    {
      "cell_type": "code",
      "source": [
        " %%svg\n",
        " <svg height=\"150\" width=\"400\">\n",
        "  <defs>\n",
        "    <linearGradient id=\"grad2\" x1=\"0%\" y1=\"0%\" x2=\"0%\" y2=\"100%\">\n",
        "      <stop offset=\"0%\" style=\"stop-color:rgb(255,0,0);stop-opacity:1\" />\n",
        "      <stop offset=\"100%\" style=\"stop-color:rgb(255,255,0);stop-opacity:1\" />\n",
        "    </linearGradient>\n",
        "  </defs>\n",
        "  <ellipse cx=\"200\" cy=\"70\" rx=\"85\" ry=\"55\" fill=\"url(#grad2)\" />\n",
        "</svg> "
      ],
      "metadata": {
        "colab": {
          "base_uri": "https://localhost:8080/",
          "height": 171
        },
        "id": "lt6xq2vDa74U",
        "outputId": "e0faf18c-448b-4c71-f939-1fd4c9ce1339"
      },
      "execution_count": null,
      "outputs": [
        {
          "output_type": "display_data",
          "data": {
            "text/plain": [
              "<IPython.core.display.SVG object>"
            ],
            "image/svg+xml": "<svg height=\"150\" width=\"400\">\n <defs>\n   <linearGradient id=\"grad2\" x1=\"0%\" x2=\"0%\" y1=\"0%\" y2=\"100%\">\n     <stop offset=\"0%\" style=\"stop-color:rgb(255,0,0);stop-opacity:1\"/>\n     <stop offset=\"100%\" style=\"stop-color:rgb(255,255,0);stop-opacity:1\"/>\n   </linearGradient>\n </defs>\n <ellipse cx=\"200\" cy=\"70\" fill=\"url(#grad2)\" rx=\"85\" ry=\"55\"/>\n</svg>"
          },
          "metadata": {}
        }
      ]
    },
    {
      "cell_type": "markdown",
      "source": [
        "Example 3"
      ],
      "metadata": {
        "id": "DJWUmjuTbMNe"
      }
    },
    {
      "cell_type": "code",
      "source": [
        " %%SVG\n",
        " <svg height=\"150\" width=\"400\">\n",
        "  <defs>\n",
        "    <linearGradient id=\"grad3\" x1=\"0%\" y1=\"0%\" x2=\"100%\" y2=\"0%\">\n",
        "      <stop offset=\"0%\" style=\"stop-color:rgb(255,255,0);stop-opacity:1\" />\n",
        "      <stop offset=\"100%\" style=\"stop-color:rgb(255,0,0);stop-opacity:1\" />\n",
        "    </linearGradient>\n",
        "  </defs>\n",
        "  <ellipse cx=\"200\" cy=\"70\" rx=\"85\" ry=\"55\" fill=\"url(#grad3)\" />\n",
        "  <text fill=\"#ffffff\" font-size=\"45\" font-family=\"Verdana\" x=\"150\" y=\"86\">\n",
        "  SVG</text>\n",
        "</svg>"
      ],
      "metadata": {
        "colab": {
          "base_uri": "https://localhost:8080/",
          "height": 171
        },
        "id": "dMaO5y2_bTDx",
        "outputId": "3e406e5c-9614-48f2-87d4-235cadea9568"
      },
      "execution_count": null,
      "outputs": [
        {
          "output_type": "display_data",
          "data": {
            "text/plain": [
              "<IPython.core.display.SVG object>"
            ],
            "image/svg+xml": "<svg height=\"150\" width=\"400\">\n <defs>\n   <linearGradient id=\"grad3\" x1=\"0%\" x2=\"100%\" y1=\"0%\" y2=\"0%\">\n     <stop offset=\"0%\" style=\"stop-color:rgb(255,255,0);stop-opacity:1\"/>\n     <stop offset=\"100%\" style=\"stop-color:rgb(255,0,0);stop-opacity:1\"/>\n   </linearGradient>\n </defs>\n <ellipse cx=\"200\" cy=\"70\" fill=\"url(#grad3)\" rx=\"85\" ry=\"55\"/>\n <text fill=\"#ffffff\" font-family=\"Verdana\" font-size=\"45\" x=\"150\" y=\"86\">\n SVG</text>\n</svg>"
          },
          "metadata": {}
        }
      ]
    },
    {
      "cell_type": "markdown",
      "source": [
        "## [SVG Radial](https://www.w3schools.com/graphics/svg_grad_radial.asp)"
      ],
      "metadata": {
        "id": "eDEkRLd1b0l8"
      }
    },
    {
      "cell_type": "markdown",
      "source": [
        "SVG Radial Gradient - &lt;radialGradient&gt;"
      ],
      "metadata": {
        "id": "_ejtBJv5cHXV"
      }
    },
    {
      "cell_type": "markdown",
      "source": [
        "Example 1"
      ],
      "metadata": {
        "id": "OWLRALV_cXyV"
      }
    },
    {
      "cell_type": "code",
      "source": [
        " %%svg\n",
        " <svg height=\"150\" width=\"500\">\n",
        "  <defs>\n",
        "    <radialGradient id=\"grad1\" cx=\"50%\" cy=\"50%\" r=\"50%\" fx=\"50%\" fy=\"50%\">\n",
        "      <stop offset=\"0%\" style=\"stop-color:rgb(255,255,255);\n",
        "      stop-opacity:0\" />\n",
        "      <stop offset=\"100%\" style=\"stop-color:rgb(0,0,255);stop-opacity:1\" />\n",
        "    </radialGradient>\n",
        "  </defs>\n",
        "  <ellipse cx=\"200\" cy=\"70\" rx=\"85\" ry=\"55\" fill=\"url(#grad1)\" />\n",
        "</svg> "
      ],
      "metadata": {
        "colab": {
          "base_uri": "https://localhost:8080/",
          "height": 171
        },
        "id": "HvawO8oRcecR",
        "outputId": "8677adca-9349-4320-d975-06174e25231d"
      },
      "execution_count": null,
      "outputs": [
        {
          "output_type": "display_data",
          "data": {
            "text/plain": [
              "<IPython.core.display.SVG object>"
            ],
            "image/svg+xml": "<svg height=\"150\" width=\"500\">\n <defs>\n   <radialGradient cx=\"50%\" cy=\"50%\" fx=\"50%\" fy=\"50%\" id=\"grad1\" r=\"50%\">\n     <stop offset=\"0%\" style=\"stop-color:rgb(255,255,255);      stop-opacity:0\"/>\n     <stop offset=\"100%\" style=\"stop-color:rgb(0,0,255);stop-opacity:1\"/>\n   </radialGradient>\n </defs>\n <ellipse cx=\"200\" cy=\"70\" fill=\"url(#grad1)\" rx=\"85\" ry=\"55\"/>\n</svg>"
          },
          "metadata": {}
        }
      ]
    },
    {
      "cell_type": "markdown",
      "source": [
        "Example 2"
      ],
      "metadata": {
        "id": "1vek6aPYcrAZ"
      }
    },
    {
      "cell_type": "code",
      "source": [
        " %%svg\n",
        " <svg height=\"150\" width=\"500\">\n",
        "  <defs>\n",
        "    <radialGradient id=\"grad2\" cx=\"20%\" cy=\"30%\" r=\"30%\" fx=\"50%\" fy=\"50%\">\n",
        "      <stop offset=\"0%\" style=\"stop-color:rgb(255,255,255);\n",
        "      stop-opacity:0\" />\n",
        "      <stop offset=\"100%\" style=\"stop-color:rgb(0,0,255);stop-opacity:1\" />\n",
        "    </radialGradient>\n",
        "  </defs>\n",
        "  <ellipse cx=\"200\" cy=\"70\" rx=\"85\" ry=\"55\" fill=\"url(#grad2)\" />\n",
        "</svg> "
      ],
      "metadata": {
        "colab": {
          "base_uri": "https://localhost:8080/",
          "height": 171
        },
        "id": "6zcazrJgcvI2",
        "outputId": "fe3dd7cf-0c66-45f5-d0a7-6cbc7cc1de41"
      },
      "execution_count": null,
      "outputs": [
        {
          "output_type": "display_data",
          "data": {
            "text/plain": [
              "<IPython.core.display.SVG object>"
            ],
            "image/svg+xml": "<svg height=\"150\" width=\"500\">\n <defs>\n   <radialGradient cx=\"20%\" cy=\"30%\" fx=\"50%\" fy=\"50%\" id=\"grad2\" r=\"30%\">\n     <stop offset=\"0%\" style=\"stop-color:rgb(255,255,255);      stop-opacity:0\"/>\n     <stop offset=\"100%\" style=\"stop-color:rgb(0,0,255);stop-opacity:1\"/>\n   </radialGradient>\n </defs>\n <ellipse cx=\"200\" cy=\"70\" fill=\"url(#grad2)\" rx=\"85\" ry=\"55\"/>\n</svg>"
          },
          "metadata": {}
        }
      ]
    },
    {
      "cell_type": "markdown",
      "source": [
        "## [SVG Examples](https://www.w3schools.com/graphics/svg_examples.asp)"
      ],
      "metadata": {
        "id": "qhh_ugY1dCYk"
      }
    },
    {
      "cell_type": "markdown",
      "source": [
        "Description in the link."
      ],
      "metadata": {
        "id": "dkTvsl5uePV6"
      }
    },
    {
      "cell_type": "markdown",
      "source": [
        "## [SVG Reference](https://www.w3schools.com/graphics/svg_reference.asp)"
      ],
      "metadata": {
        "id": "VXwJxAOTdM55"
      }
    },
    {
      "cell_type": "markdown",
      "source": [
        "Description in the link."
      ],
      "metadata": {
        "id": "pVqKRBTHeT3S"
      }
    },
    {
      "cell_type": "markdown",
      "source": [
        "\n",
        "\n",
        "---\n",
        "\n"
      ],
      "metadata": {
        "id": "F8xIZVNGdozb"
      }
    }
  ]
}